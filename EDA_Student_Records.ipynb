{
  "nbformat": 4,
  "nbformat_minor": 0,
  "metadata": {
    "colab": {
      "provenance": []
    },
    "kernelspec": {
      "name": "python3",
      "display_name": "Python 3"
    },
    "language_info": {
      "name": "python"
    }
  },
  "cells": [
    {
      "cell_type": "code",
      "execution_count": 1,
      "metadata": {
        "id": "TYz-4fpbLUyy"
      },
      "outputs": [],
      "source": [
        "import numpy as np\n",
        "import pandas as pd\n",
        "import seaborn as sns\n",
        "import matplotlib.pyplot as plt"
      ]
    },
    {
      "cell_type": "code",
      "source": [
        "records = pd.read_csv('/content/records.csv')"
      ],
      "metadata": {
        "id": "KssNmKKQMVI_"
      },
      "execution_count": 2,
      "outputs": []
    },
    {
      "cell_type": "code",
      "source": [
        "records.info()"
      ],
      "metadata": {
        "colab": {
          "base_uri": "https://localhost:8080/"
        },
        "id": "_Qx_CuJOMa3i",
        "outputId": "54fbdc81-4589-43fc-eb7d-904c59152a2b"
      },
      "execution_count": 3,
      "outputs": [
        {
          "output_type": "stream",
          "name": "stdout",
          "text": [
            "<class 'pandas.core.frame.DataFrame'>\n",
            "RangeIndex: 50 entries, 0 to 49\n",
            "Data columns (total 26 columns):\n",
            " #   Column          Non-Null Count  Dtype  \n",
            "---  ------          --------------  -----  \n",
            " 0   StudentID       50 non-null     int64  \n",
            " 1   Q1_Timestamp    50 non-null     int64  \n",
            " 2   Q1_CS_GPA       50 non-null     float64\n",
            " 3   Q1_Overall_GPA  50 non-null     float64\n",
            " 4   Q1_CS_Units     50 non-null     int64  \n",
            " 5   Q1_Total_Units  50 non-null     int64  \n",
            " 6   Q2_Timestamp    50 non-null     int64  \n",
            " 7   Q2_CS_GPA       50 non-null     float64\n",
            " 8   Q2_Overall_GPA  50 non-null     float64\n",
            " 9   Q2_CS_Units     50 non-null     int64  \n",
            " 10  Q2_Total_Units  50 non-null     int64  \n",
            " 11  Q3_Timestamp    50 non-null     int64  \n",
            " 12  Q3_CS_GPA       50 non-null     float64\n",
            " 13  Q3_Overall_GPA  50 non-null     float64\n",
            " 14  Q3_CS_Units     50 non-null     int64  \n",
            " 15  Q3_Total_Units  50 non-null     int64  \n",
            " 16  Q4_Timestamp    50 non-null     int64  \n",
            " 17  Q4_CS_GPA       50 non-null     float64\n",
            " 18  Q4_Overall_GPA  50 non-null     float64\n",
            " 19  Q4_CS_Units     50 non-null     int64  \n",
            " 20  Q4_Total_Units  50 non-null     int64  \n",
            " 21  Q5_Timestamp    50 non-null     int64  \n",
            " 22  Q5_CS_GPA       50 non-null     float64\n",
            " 23  Q5_Overall_GPA  50 non-null     float64\n",
            " 24  Q5_CS_Units     50 non-null     int64  \n",
            " 25  Q5_Total_Units  50 non-null     int64  \n",
            "dtypes: float64(10), int64(16)\n",
            "memory usage: 10.3 KB\n"
          ]
        }
      ]
    },
    {
      "cell_type": "code",
      "source": [
        "records[records['Q1_Timestamp'] == 202308]"
      ],
      "metadata": {
        "colab": {
          "base_uri": "https://localhost:8080/",
          "height": 287
        },
        "id": "i5YPrdsYNXc7",
        "outputId": "245a7f27-9812-40e2-d440-34271e6308c9"
      },
      "execution_count": 4,
      "outputs": [
        {
          "output_type": "execute_result",
          "data": {
            "text/plain": [
              "    StudentID  Q1_Timestamp  Q1_CS_GPA  Q1_Overall_GPA  Q1_CS_Units  \\\n",
              "0           1        202308       3.25            3.22           11   \n",
              "6           7        202308       2.76            2.72           16   \n",
              "24         25        202308       2.60            2.58           13   \n",
              "28         29        202308       3.06            3.19           15   \n",
              "35         36        202308       3.16            3.46            9   \n",
              "43         44        202308       2.41            2.00            8   \n",
              "\n",
              "    Q1_Total_Units  Q2_Timestamp  Q2_CS_GPA  Q2_Overall_GPA  Q2_CS_Units  ...  \\\n",
              "0               12        202401       3.32            3.62           16  ...   \n",
              "6               16        202401       2.45            2.21            9  ...   \n",
              "24              16        202401       3.25            3.42           16  ...   \n",
              "28              18        202401       3.79            3.54           11  ...   \n",
              "35              13        202401       3.43            3.40            8  ...   \n",
              "43              12        202401       2.87            3.01            9  ...   \n",
              "\n",
              "    Q4_Timestamp  Q4_CS_GPA  Q4_Overall_GPA  Q4_CS_Units  Q4_Total_Units  \\\n",
              "0         202501       3.79            3.94            8              12   \n",
              "6         202408       2.96            3.16           10              13   \n",
              "24        202408       2.76            2.63           12              15   \n",
              "28        202408       2.92            3.04           12              15   \n",
              "35        202408       2.99            2.93           15              16   \n",
              "43        202408       3.81            3.53           10              14   \n",
              "\n",
              "    Q5_Timestamp  Q5_CS_GPA  Q5_Overall_GPA  Q5_CS_Units  Q5_Total_Units  \n",
              "0         202503       2.77            2.88           16              19  \n",
              "6         202503       3.18            3.05           12              16  \n",
              "24        202501       3.88            3.96            8              10  \n",
              "28        202503       3.14            3.02           12              14  \n",
              "35        202501       3.16            2.99           16              18  \n",
              "43        202508       2.15            2.14           15              17  \n",
              "\n",
              "[6 rows x 26 columns]"
            ],
            "text/html": [
              "\n",
              "  <div id=\"df-d7aa2cf8-8bf2-49d1-86d8-461e129f4770\" class=\"colab-df-container\">\n",
              "    <div>\n",
              "<style scoped>\n",
              "    .dataframe tbody tr th:only-of-type {\n",
              "        vertical-align: middle;\n",
              "    }\n",
              "\n",
              "    .dataframe tbody tr th {\n",
              "        vertical-align: top;\n",
              "    }\n",
              "\n",
              "    .dataframe thead th {\n",
              "        text-align: right;\n",
              "    }\n",
              "</style>\n",
              "<table border=\"1\" class=\"dataframe\">\n",
              "  <thead>\n",
              "    <tr style=\"text-align: right;\">\n",
              "      <th></th>\n",
              "      <th>StudentID</th>\n",
              "      <th>Q1_Timestamp</th>\n",
              "      <th>Q1_CS_GPA</th>\n",
              "      <th>Q1_Overall_GPA</th>\n",
              "      <th>Q1_CS_Units</th>\n",
              "      <th>Q1_Total_Units</th>\n",
              "      <th>Q2_Timestamp</th>\n",
              "      <th>Q2_CS_GPA</th>\n",
              "      <th>Q2_Overall_GPA</th>\n",
              "      <th>Q2_CS_Units</th>\n",
              "      <th>...</th>\n",
              "      <th>Q4_Timestamp</th>\n",
              "      <th>Q4_CS_GPA</th>\n",
              "      <th>Q4_Overall_GPA</th>\n",
              "      <th>Q4_CS_Units</th>\n",
              "      <th>Q4_Total_Units</th>\n",
              "      <th>Q5_Timestamp</th>\n",
              "      <th>Q5_CS_GPA</th>\n",
              "      <th>Q5_Overall_GPA</th>\n",
              "      <th>Q5_CS_Units</th>\n",
              "      <th>Q5_Total_Units</th>\n",
              "    </tr>\n",
              "  </thead>\n",
              "  <tbody>\n",
              "    <tr>\n",
              "      <th>0</th>\n",
              "      <td>1</td>\n",
              "      <td>202308</td>\n",
              "      <td>3.25</td>\n",
              "      <td>3.22</td>\n",
              "      <td>11</td>\n",
              "      <td>12</td>\n",
              "      <td>202401</td>\n",
              "      <td>3.32</td>\n",
              "      <td>3.62</td>\n",
              "      <td>16</td>\n",
              "      <td>...</td>\n",
              "      <td>202501</td>\n",
              "      <td>3.79</td>\n",
              "      <td>3.94</td>\n",
              "      <td>8</td>\n",
              "      <td>12</td>\n",
              "      <td>202503</td>\n",
              "      <td>2.77</td>\n",
              "      <td>2.88</td>\n",
              "      <td>16</td>\n",
              "      <td>19</td>\n",
              "    </tr>\n",
              "    <tr>\n",
              "      <th>6</th>\n",
              "      <td>7</td>\n",
              "      <td>202308</td>\n",
              "      <td>2.76</td>\n",
              "      <td>2.72</td>\n",
              "      <td>16</td>\n",
              "      <td>16</td>\n",
              "      <td>202401</td>\n",
              "      <td>2.45</td>\n",
              "      <td>2.21</td>\n",
              "      <td>9</td>\n",
              "      <td>...</td>\n",
              "      <td>202408</td>\n",
              "      <td>2.96</td>\n",
              "      <td>3.16</td>\n",
              "      <td>10</td>\n",
              "      <td>13</td>\n",
              "      <td>202503</td>\n",
              "      <td>3.18</td>\n",
              "      <td>3.05</td>\n",
              "      <td>12</td>\n",
              "      <td>16</td>\n",
              "    </tr>\n",
              "    <tr>\n",
              "      <th>24</th>\n",
              "      <td>25</td>\n",
              "      <td>202308</td>\n",
              "      <td>2.60</td>\n",
              "      <td>2.58</td>\n",
              "      <td>13</td>\n",
              "      <td>16</td>\n",
              "      <td>202401</td>\n",
              "      <td>3.25</td>\n",
              "      <td>3.42</td>\n",
              "      <td>16</td>\n",
              "      <td>...</td>\n",
              "      <td>202408</td>\n",
              "      <td>2.76</td>\n",
              "      <td>2.63</td>\n",
              "      <td>12</td>\n",
              "      <td>15</td>\n",
              "      <td>202501</td>\n",
              "      <td>3.88</td>\n",
              "      <td>3.96</td>\n",
              "      <td>8</td>\n",
              "      <td>10</td>\n",
              "    </tr>\n",
              "    <tr>\n",
              "      <th>28</th>\n",
              "      <td>29</td>\n",
              "      <td>202308</td>\n",
              "      <td>3.06</td>\n",
              "      <td>3.19</td>\n",
              "      <td>15</td>\n",
              "      <td>18</td>\n",
              "      <td>202401</td>\n",
              "      <td>3.79</td>\n",
              "      <td>3.54</td>\n",
              "      <td>11</td>\n",
              "      <td>...</td>\n",
              "      <td>202408</td>\n",
              "      <td>2.92</td>\n",
              "      <td>3.04</td>\n",
              "      <td>12</td>\n",
              "      <td>15</td>\n",
              "      <td>202503</td>\n",
              "      <td>3.14</td>\n",
              "      <td>3.02</td>\n",
              "      <td>12</td>\n",
              "      <td>14</td>\n",
              "    </tr>\n",
              "    <tr>\n",
              "      <th>35</th>\n",
              "      <td>36</td>\n",
              "      <td>202308</td>\n",
              "      <td>3.16</td>\n",
              "      <td>3.46</td>\n",
              "      <td>9</td>\n",
              "      <td>13</td>\n",
              "      <td>202401</td>\n",
              "      <td>3.43</td>\n",
              "      <td>3.40</td>\n",
              "      <td>8</td>\n",
              "      <td>...</td>\n",
              "      <td>202408</td>\n",
              "      <td>2.99</td>\n",
              "      <td>2.93</td>\n",
              "      <td>15</td>\n",
              "      <td>16</td>\n",
              "      <td>202501</td>\n",
              "      <td>3.16</td>\n",
              "      <td>2.99</td>\n",
              "      <td>16</td>\n",
              "      <td>18</td>\n",
              "    </tr>\n",
              "    <tr>\n",
              "      <th>43</th>\n",
              "      <td>44</td>\n",
              "      <td>202308</td>\n",
              "      <td>2.41</td>\n",
              "      <td>2.00</td>\n",
              "      <td>8</td>\n",
              "      <td>12</td>\n",
              "      <td>202401</td>\n",
              "      <td>2.87</td>\n",
              "      <td>3.01</td>\n",
              "      <td>9</td>\n",
              "      <td>...</td>\n",
              "      <td>202408</td>\n",
              "      <td>3.81</td>\n",
              "      <td>3.53</td>\n",
              "      <td>10</td>\n",
              "      <td>14</td>\n",
              "      <td>202508</td>\n",
              "      <td>2.15</td>\n",
              "      <td>2.14</td>\n",
              "      <td>15</td>\n",
              "      <td>17</td>\n",
              "    </tr>\n",
              "  </tbody>\n",
              "</table>\n",
              "<p>6 rows × 26 columns</p>\n",
              "</div>\n",
              "    <div class=\"colab-df-buttons\">\n",
              "\n",
              "  <div class=\"colab-df-container\">\n",
              "    <button class=\"colab-df-convert\" onclick=\"convertToInteractive('df-d7aa2cf8-8bf2-49d1-86d8-461e129f4770')\"\n",
              "            title=\"Convert this dataframe to an interactive table.\"\n",
              "            style=\"display:none;\">\n",
              "\n",
              "  <svg xmlns=\"http://www.w3.org/2000/svg\" height=\"24px\" viewBox=\"0 -960 960 960\">\n",
              "    <path d=\"M120-120v-720h720v720H120Zm60-500h600v-160H180v160Zm220 220h160v-160H400v160Zm0 220h160v-160H400v160ZM180-400h160v-160H180v160Zm440 0h160v-160H620v160ZM180-180h160v-160H180v160Zm440 0h160v-160H620v160Z\"/>\n",
              "  </svg>\n",
              "    </button>\n",
              "\n",
              "  <style>\n",
              "    .colab-df-container {\n",
              "      display:flex;\n",
              "      gap: 12px;\n",
              "    }\n",
              "\n",
              "    .colab-df-convert {\n",
              "      background-color: #E8F0FE;\n",
              "      border: none;\n",
              "      border-radius: 50%;\n",
              "      cursor: pointer;\n",
              "      display: none;\n",
              "      fill: #1967D2;\n",
              "      height: 32px;\n",
              "      padding: 0 0 0 0;\n",
              "      width: 32px;\n",
              "    }\n",
              "\n",
              "    .colab-df-convert:hover {\n",
              "      background-color: #E2EBFA;\n",
              "      box-shadow: 0px 1px 2px rgba(60, 64, 67, 0.3), 0px 1px 3px 1px rgba(60, 64, 67, 0.15);\n",
              "      fill: #174EA6;\n",
              "    }\n",
              "\n",
              "    .colab-df-buttons div {\n",
              "      margin-bottom: 4px;\n",
              "    }\n",
              "\n",
              "    [theme=dark] .colab-df-convert {\n",
              "      background-color: #3B4455;\n",
              "      fill: #D2E3FC;\n",
              "    }\n",
              "\n",
              "    [theme=dark] .colab-df-convert:hover {\n",
              "      background-color: #434B5C;\n",
              "      box-shadow: 0px 1px 3px 1px rgba(0, 0, 0, 0.15);\n",
              "      filter: drop-shadow(0px 1px 2px rgba(0, 0, 0, 0.3));\n",
              "      fill: #FFFFFF;\n",
              "    }\n",
              "  </style>\n",
              "\n",
              "    <script>\n",
              "      const buttonEl =\n",
              "        document.querySelector('#df-d7aa2cf8-8bf2-49d1-86d8-461e129f4770 button.colab-df-convert');\n",
              "      buttonEl.style.display =\n",
              "        google.colab.kernel.accessAllowed ? 'block' : 'none';\n",
              "\n",
              "      async function convertToInteractive(key) {\n",
              "        const element = document.querySelector('#df-d7aa2cf8-8bf2-49d1-86d8-461e129f4770');\n",
              "        const dataTable =\n",
              "          await google.colab.kernel.invokeFunction('convertToInteractive',\n",
              "                                                    [key], {});\n",
              "        if (!dataTable) return;\n",
              "\n",
              "        const docLinkHtml = 'Like what you see? Visit the ' +\n",
              "          '<a target=\"_blank\" href=https://colab.research.google.com/notebooks/data_table.ipynb>data table notebook</a>'\n",
              "          + ' to learn more about interactive tables.';\n",
              "        element.innerHTML = '';\n",
              "        dataTable['output_type'] = 'display_data';\n",
              "        await google.colab.output.renderOutput(dataTable, element);\n",
              "        const docLink = document.createElement('div');\n",
              "        docLink.innerHTML = docLinkHtml;\n",
              "        element.appendChild(docLink);\n",
              "      }\n",
              "    </script>\n",
              "  </div>\n",
              "\n",
              "\n",
              "<div id=\"df-eb53e8a5-d168-4a3d-9723-1d22eee6d6db\">\n",
              "  <button class=\"colab-df-quickchart\" onclick=\"quickchart('df-eb53e8a5-d168-4a3d-9723-1d22eee6d6db')\"\n",
              "            title=\"Suggest charts\"\n",
              "            style=\"display:none;\">\n",
              "\n",
              "<svg xmlns=\"http://www.w3.org/2000/svg\" height=\"24px\"viewBox=\"0 0 24 24\"\n",
              "     width=\"24px\">\n",
              "    <g>\n",
              "        <path d=\"M19 3H5c-1.1 0-2 .9-2 2v14c0 1.1.9 2 2 2h14c1.1 0 2-.9 2-2V5c0-1.1-.9-2-2-2zM9 17H7v-7h2v7zm4 0h-2V7h2v10zm4 0h-2v-4h2v4z\"/>\n",
              "    </g>\n",
              "</svg>\n",
              "  </button>\n",
              "\n",
              "<style>\n",
              "  .colab-df-quickchart {\n",
              "      --bg-color: #E8F0FE;\n",
              "      --fill-color: #1967D2;\n",
              "      --hover-bg-color: #E2EBFA;\n",
              "      --hover-fill-color: #174EA6;\n",
              "      --disabled-fill-color: #AAA;\n",
              "      --disabled-bg-color: #DDD;\n",
              "  }\n",
              "\n",
              "  [theme=dark] .colab-df-quickchart {\n",
              "      --bg-color: #3B4455;\n",
              "      --fill-color: #D2E3FC;\n",
              "      --hover-bg-color: #434B5C;\n",
              "      --hover-fill-color: #FFFFFF;\n",
              "      --disabled-bg-color: #3B4455;\n",
              "      --disabled-fill-color: #666;\n",
              "  }\n",
              "\n",
              "  .colab-df-quickchart {\n",
              "    background-color: var(--bg-color);\n",
              "    border: none;\n",
              "    border-radius: 50%;\n",
              "    cursor: pointer;\n",
              "    display: none;\n",
              "    fill: var(--fill-color);\n",
              "    height: 32px;\n",
              "    padding: 0;\n",
              "    width: 32px;\n",
              "  }\n",
              "\n",
              "  .colab-df-quickchart:hover {\n",
              "    background-color: var(--hover-bg-color);\n",
              "    box-shadow: 0 1px 2px rgba(60, 64, 67, 0.3), 0 1px 3px 1px rgba(60, 64, 67, 0.15);\n",
              "    fill: var(--button-hover-fill-color);\n",
              "  }\n",
              "\n",
              "  .colab-df-quickchart-complete:disabled,\n",
              "  .colab-df-quickchart-complete:disabled:hover {\n",
              "    background-color: var(--disabled-bg-color);\n",
              "    fill: var(--disabled-fill-color);\n",
              "    box-shadow: none;\n",
              "  }\n",
              "\n",
              "  .colab-df-spinner {\n",
              "    border: 2px solid var(--fill-color);\n",
              "    border-color: transparent;\n",
              "    border-bottom-color: var(--fill-color);\n",
              "    animation:\n",
              "      spin 1s steps(1) infinite;\n",
              "  }\n",
              "\n",
              "  @keyframes spin {\n",
              "    0% {\n",
              "      border-color: transparent;\n",
              "      border-bottom-color: var(--fill-color);\n",
              "      border-left-color: var(--fill-color);\n",
              "    }\n",
              "    20% {\n",
              "      border-color: transparent;\n",
              "      border-left-color: var(--fill-color);\n",
              "      border-top-color: var(--fill-color);\n",
              "    }\n",
              "    30% {\n",
              "      border-color: transparent;\n",
              "      border-left-color: var(--fill-color);\n",
              "      border-top-color: var(--fill-color);\n",
              "      border-right-color: var(--fill-color);\n",
              "    }\n",
              "    40% {\n",
              "      border-color: transparent;\n",
              "      border-right-color: var(--fill-color);\n",
              "      border-top-color: var(--fill-color);\n",
              "    }\n",
              "    60% {\n",
              "      border-color: transparent;\n",
              "      border-right-color: var(--fill-color);\n",
              "    }\n",
              "    80% {\n",
              "      border-color: transparent;\n",
              "      border-right-color: var(--fill-color);\n",
              "      border-bottom-color: var(--fill-color);\n",
              "    }\n",
              "    90% {\n",
              "      border-color: transparent;\n",
              "      border-bottom-color: var(--fill-color);\n",
              "    }\n",
              "  }\n",
              "</style>\n",
              "\n",
              "  <script>\n",
              "    async function quickchart(key) {\n",
              "      const quickchartButtonEl =\n",
              "        document.querySelector('#' + key + ' button');\n",
              "      quickchartButtonEl.disabled = true;  // To prevent multiple clicks.\n",
              "      quickchartButtonEl.classList.add('colab-df-spinner');\n",
              "      try {\n",
              "        const charts = await google.colab.kernel.invokeFunction(\n",
              "            'suggestCharts', [key], {});\n",
              "      } catch (error) {\n",
              "        console.error('Error during call to suggestCharts:', error);\n",
              "      }\n",
              "      quickchartButtonEl.classList.remove('colab-df-spinner');\n",
              "      quickchartButtonEl.classList.add('colab-df-quickchart-complete');\n",
              "    }\n",
              "    (() => {\n",
              "      let quickchartButtonEl =\n",
              "        document.querySelector('#df-eb53e8a5-d168-4a3d-9723-1d22eee6d6db button');\n",
              "      quickchartButtonEl.style.display =\n",
              "        google.colab.kernel.accessAllowed ? 'block' : 'none';\n",
              "    })();\n",
              "  </script>\n",
              "</div>\n",
              "\n",
              "    </div>\n",
              "  </div>\n"
            ],
            "application/vnd.google.colaboratory.intrinsic+json": {
              "type": "dataframe"
            }
          },
          "metadata": {},
          "execution_count": 4
        }
      ]
    },
    {
      "cell_type": "code",
      "source": [
        "records['Avg_CS_GPA'] = (records[\"Q1_CS_GPA\"] + records[\"Q2_CS_GPA\"] + records[\"Q3_CS_GPA\"] + records[\"Q4_CS_GPA\"] + records[\"Q5_CS_GPA\"])/5"
      ],
      "metadata": {
        "id": "MgFq3yWctiVP"
      },
      "execution_count": 5,
      "outputs": []
    },
    {
      "cell_type": "code",
      "source": [
        "records['Avg_Overall_GPA'] = (records[\"Q1_Overall_GPA\"] + records[\"Q2_Overall_GPA\"] + records[\"Q3_Overall_GPA\"] + records[\"Q4_Overall_GPA\"] + records[\"Q5_Overall_GPA\"])/5"
      ],
      "metadata": {
        "id": "nqDXcWf-t0na"
      },
      "execution_count": 6,
      "outputs": []
    },
    {
      "cell_type": "code",
      "source": [
        "records[\"Weighted_CS_GPA\"] = ((records[\"Q1_CS_GPA\"] * records['Q1_CS_Units']) + \\\n",
        "                            (records[\"Q2_CS_GPA\"] * records['Q2_CS_Units']) + \\\n",
        "                            (records[\"Q3_CS_GPA\"] * records['Q3_CS_Units']) + \\\n",
        "                            (records[\"Q4_CS_GPA\"] * records['Q4_CS_Units']) + \\\n",
        "                            (records[\"Q5_CS_GPA\"] * records['Q5_CS_Units'])) / (records['Q1_CS_Units'] + records['Q2_CS_Units'] + records['Q3_CS_Units'] + records['Q4_CS_Units'] + records['Q5_CS_Units'])"
      ],
      "metadata": {
        "id": "rl1_mLEunx1G"
      },
      "execution_count": 7,
      "outputs": []
    },
    {
      "cell_type": "code",
      "source": [
        "records[\"Weighted_Overall_GPA\"] = ((records[\"Q1_Overall_GPA\"] * records['Q1_Total_Units']) + \\\n",
        "                            (records[\"Q2_Overall_GPA\"] * records['Q2_Total_Units']) + \\\n",
        "                            (records[\"Q3_Overall_GPA\"] * records['Q3_Total_Units']) + \\\n",
        "                            (records[\"Q4_Overall_GPA\"] * records['Q4_Total_Units']) + \\\n",
        "                            (records[\"Q5_Overall_GPA\"] * records['Q5_Total_Units'])) / (records['Q1_Total_Units'] + records['Q2_Total_Units'] + records['Q3_Total_Units'] + records['Q4_Total_Units'] + records['Q5_Total_Units'])"
      ],
      "metadata": {
        "id": "HCDtK22DoGJK"
      },
      "execution_count": 8,
      "outputs": []
    },
    {
      "cell_type": "code",
      "source": [
        "records[\"Total_CS_Units\"] = records['Q1_CS_Units'] + records['Q2_CS_Units'] + records['Q3_CS_Units'] + records['Q4_CS_Units'] + records['Q5_CS_Units']"
      ],
      "metadata": {
        "id": "tV_8xCTKppF5"
      },
      "execution_count": 9,
      "outputs": []
    },
    {
      "cell_type": "code",
      "source": [
        "records[\"Total_Overall_Units\"] = records['Q1_Total_Units'] + records['Q2_Total_Units'] + records['Q3_Total_Units'] + records['Q4_Total_Units'] + records['Q5_Total_Units']"
      ],
      "metadata": {
        "id": "Ab7Ml3WRqIoL"
      },
      "execution_count": 10,
      "outputs": []
    },
    {
      "cell_type": "code",
      "source": [
        "records.head()"
      ],
      "metadata": {
        "colab": {
          "base_uri": "https://localhost:8080/",
          "height": 256
        },
        "id": "UTAJCtCQpWa3",
        "outputId": "6a29db4e-019b-40a5-964f-9394e2be028a"
      },
      "execution_count": 11,
      "outputs": [
        {
          "output_type": "execute_result",
          "data": {
            "text/plain": [
              "   StudentID  Q1_Timestamp  Q1_CS_GPA  Q1_Overall_GPA  Q1_CS_Units  \\\n",
              "0          1        202308       3.25            3.22           11   \n",
              "1          2        202108       2.77            2.68            8   \n",
              "2          3        202203       3.73            3.68           13   \n",
              "3          4        202208       2.70            3.07           12   \n",
              "4          5        202108       3.37            3.40            9   \n",
              "\n",
              "   Q1_Total_Units  Q2_Timestamp  Q2_CS_GPA  Q2_Overall_GPA  Q2_CS_Units  ...  \\\n",
              "0              12        202401       3.32            3.62           16  ...   \n",
              "1               9        202201       3.12            2.74           13  ...   \n",
              "2              17        202208       3.03            2.75            9  ...   \n",
              "3              12        202301       2.99            2.78           10  ...   \n",
              "4              10        202201       2.94            2.88           13  ...   \n",
              "\n",
              "   Q5_CS_GPA  Q5_Overall_GPA  Q5_CS_Units  Q5_Total_Units  Avg_CS_GPA  \\\n",
              "0       2.77            2.88           16              19       3.202   \n",
              "1       2.55            2.27           16              16       2.614   \n",
              "2       2.70            2.64           13              14       2.922   \n",
              "3       2.34            2.38            8               9       2.908   \n",
              "4       3.17            2.82           16              18       2.902   \n",
              "\n",
              "   Avg_Overall_GPA  Weighted_CS_GPA  Weighted_Overall_GPA  Total_CS_Units  \\\n",
              "0            3.298         3.161864              3.301493              59   \n",
              "1            2.454         2.600323              2.438923              62   \n",
              "2            2.864         2.953571              2.926094              56   \n",
              "3            2.822         2.941429              2.837846              56   \n",
              "4            2.840         2.880806              2.770000              62   \n",
              "\n",
              "   Total_Overall_Units  \n",
              "0                   67  \n",
              "1                   65  \n",
              "2                   64  \n",
              "3                   65  \n",
              "4                   70  \n",
              "\n",
              "[5 rows x 32 columns]"
            ],
            "text/html": [
              "\n",
              "  <div id=\"df-b648d494-d15b-403b-a074-2c1e62c62a52\" class=\"colab-df-container\">\n",
              "    <div>\n",
              "<style scoped>\n",
              "    .dataframe tbody tr th:only-of-type {\n",
              "        vertical-align: middle;\n",
              "    }\n",
              "\n",
              "    .dataframe tbody tr th {\n",
              "        vertical-align: top;\n",
              "    }\n",
              "\n",
              "    .dataframe thead th {\n",
              "        text-align: right;\n",
              "    }\n",
              "</style>\n",
              "<table border=\"1\" class=\"dataframe\">\n",
              "  <thead>\n",
              "    <tr style=\"text-align: right;\">\n",
              "      <th></th>\n",
              "      <th>StudentID</th>\n",
              "      <th>Q1_Timestamp</th>\n",
              "      <th>Q1_CS_GPA</th>\n",
              "      <th>Q1_Overall_GPA</th>\n",
              "      <th>Q1_CS_Units</th>\n",
              "      <th>Q1_Total_Units</th>\n",
              "      <th>Q2_Timestamp</th>\n",
              "      <th>Q2_CS_GPA</th>\n",
              "      <th>Q2_Overall_GPA</th>\n",
              "      <th>Q2_CS_Units</th>\n",
              "      <th>...</th>\n",
              "      <th>Q5_CS_GPA</th>\n",
              "      <th>Q5_Overall_GPA</th>\n",
              "      <th>Q5_CS_Units</th>\n",
              "      <th>Q5_Total_Units</th>\n",
              "      <th>Avg_CS_GPA</th>\n",
              "      <th>Avg_Overall_GPA</th>\n",
              "      <th>Weighted_CS_GPA</th>\n",
              "      <th>Weighted_Overall_GPA</th>\n",
              "      <th>Total_CS_Units</th>\n",
              "      <th>Total_Overall_Units</th>\n",
              "    </tr>\n",
              "  </thead>\n",
              "  <tbody>\n",
              "    <tr>\n",
              "      <th>0</th>\n",
              "      <td>1</td>\n",
              "      <td>202308</td>\n",
              "      <td>3.25</td>\n",
              "      <td>3.22</td>\n",
              "      <td>11</td>\n",
              "      <td>12</td>\n",
              "      <td>202401</td>\n",
              "      <td>3.32</td>\n",
              "      <td>3.62</td>\n",
              "      <td>16</td>\n",
              "      <td>...</td>\n",
              "      <td>2.77</td>\n",
              "      <td>2.88</td>\n",
              "      <td>16</td>\n",
              "      <td>19</td>\n",
              "      <td>3.202</td>\n",
              "      <td>3.298</td>\n",
              "      <td>3.161864</td>\n",
              "      <td>3.301493</td>\n",
              "      <td>59</td>\n",
              "      <td>67</td>\n",
              "    </tr>\n",
              "    <tr>\n",
              "      <th>1</th>\n",
              "      <td>2</td>\n",
              "      <td>202108</td>\n",
              "      <td>2.77</td>\n",
              "      <td>2.68</td>\n",
              "      <td>8</td>\n",
              "      <td>9</td>\n",
              "      <td>202201</td>\n",
              "      <td>3.12</td>\n",
              "      <td>2.74</td>\n",
              "      <td>13</td>\n",
              "      <td>...</td>\n",
              "      <td>2.55</td>\n",
              "      <td>2.27</td>\n",
              "      <td>16</td>\n",
              "      <td>16</td>\n",
              "      <td>2.614</td>\n",
              "      <td>2.454</td>\n",
              "      <td>2.600323</td>\n",
              "      <td>2.438923</td>\n",
              "      <td>62</td>\n",
              "      <td>65</td>\n",
              "    </tr>\n",
              "    <tr>\n",
              "      <th>2</th>\n",
              "      <td>3</td>\n",
              "      <td>202203</td>\n",
              "      <td>3.73</td>\n",
              "      <td>3.68</td>\n",
              "      <td>13</td>\n",
              "      <td>17</td>\n",
              "      <td>202208</td>\n",
              "      <td>3.03</td>\n",
              "      <td>2.75</td>\n",
              "      <td>9</td>\n",
              "      <td>...</td>\n",
              "      <td>2.70</td>\n",
              "      <td>2.64</td>\n",
              "      <td>13</td>\n",
              "      <td>14</td>\n",
              "      <td>2.922</td>\n",
              "      <td>2.864</td>\n",
              "      <td>2.953571</td>\n",
              "      <td>2.926094</td>\n",
              "      <td>56</td>\n",
              "      <td>64</td>\n",
              "    </tr>\n",
              "    <tr>\n",
              "      <th>3</th>\n",
              "      <td>4</td>\n",
              "      <td>202208</td>\n",
              "      <td>2.70</td>\n",
              "      <td>3.07</td>\n",
              "      <td>12</td>\n",
              "      <td>12</td>\n",
              "      <td>202301</td>\n",
              "      <td>2.99</td>\n",
              "      <td>2.78</td>\n",
              "      <td>10</td>\n",
              "      <td>...</td>\n",
              "      <td>2.34</td>\n",
              "      <td>2.38</td>\n",
              "      <td>8</td>\n",
              "      <td>9</td>\n",
              "      <td>2.908</td>\n",
              "      <td>2.822</td>\n",
              "      <td>2.941429</td>\n",
              "      <td>2.837846</td>\n",
              "      <td>56</td>\n",
              "      <td>65</td>\n",
              "    </tr>\n",
              "    <tr>\n",
              "      <th>4</th>\n",
              "      <td>5</td>\n",
              "      <td>202108</td>\n",
              "      <td>3.37</td>\n",
              "      <td>3.40</td>\n",
              "      <td>9</td>\n",
              "      <td>10</td>\n",
              "      <td>202201</td>\n",
              "      <td>2.94</td>\n",
              "      <td>2.88</td>\n",
              "      <td>13</td>\n",
              "      <td>...</td>\n",
              "      <td>3.17</td>\n",
              "      <td>2.82</td>\n",
              "      <td>16</td>\n",
              "      <td>18</td>\n",
              "      <td>2.902</td>\n",
              "      <td>2.840</td>\n",
              "      <td>2.880806</td>\n",
              "      <td>2.770000</td>\n",
              "      <td>62</td>\n",
              "      <td>70</td>\n",
              "    </tr>\n",
              "  </tbody>\n",
              "</table>\n",
              "<p>5 rows × 32 columns</p>\n",
              "</div>\n",
              "    <div class=\"colab-df-buttons\">\n",
              "\n",
              "  <div class=\"colab-df-container\">\n",
              "    <button class=\"colab-df-convert\" onclick=\"convertToInteractive('df-b648d494-d15b-403b-a074-2c1e62c62a52')\"\n",
              "            title=\"Convert this dataframe to an interactive table.\"\n",
              "            style=\"display:none;\">\n",
              "\n",
              "  <svg xmlns=\"http://www.w3.org/2000/svg\" height=\"24px\" viewBox=\"0 -960 960 960\">\n",
              "    <path d=\"M120-120v-720h720v720H120Zm60-500h600v-160H180v160Zm220 220h160v-160H400v160Zm0 220h160v-160H400v160ZM180-400h160v-160H180v160Zm440 0h160v-160H620v160ZM180-180h160v-160H180v160Zm440 0h160v-160H620v160Z\"/>\n",
              "  </svg>\n",
              "    </button>\n",
              "\n",
              "  <style>\n",
              "    .colab-df-container {\n",
              "      display:flex;\n",
              "      gap: 12px;\n",
              "    }\n",
              "\n",
              "    .colab-df-convert {\n",
              "      background-color: #E8F0FE;\n",
              "      border: none;\n",
              "      border-radius: 50%;\n",
              "      cursor: pointer;\n",
              "      display: none;\n",
              "      fill: #1967D2;\n",
              "      height: 32px;\n",
              "      padding: 0 0 0 0;\n",
              "      width: 32px;\n",
              "    }\n",
              "\n",
              "    .colab-df-convert:hover {\n",
              "      background-color: #E2EBFA;\n",
              "      box-shadow: 0px 1px 2px rgba(60, 64, 67, 0.3), 0px 1px 3px 1px rgba(60, 64, 67, 0.15);\n",
              "      fill: #174EA6;\n",
              "    }\n",
              "\n",
              "    .colab-df-buttons div {\n",
              "      margin-bottom: 4px;\n",
              "    }\n",
              "\n",
              "    [theme=dark] .colab-df-convert {\n",
              "      background-color: #3B4455;\n",
              "      fill: #D2E3FC;\n",
              "    }\n",
              "\n",
              "    [theme=dark] .colab-df-convert:hover {\n",
              "      background-color: #434B5C;\n",
              "      box-shadow: 0px 1px 3px 1px rgba(0, 0, 0, 0.15);\n",
              "      filter: drop-shadow(0px 1px 2px rgba(0, 0, 0, 0.3));\n",
              "      fill: #FFFFFF;\n",
              "    }\n",
              "  </style>\n",
              "\n",
              "    <script>\n",
              "      const buttonEl =\n",
              "        document.querySelector('#df-b648d494-d15b-403b-a074-2c1e62c62a52 button.colab-df-convert');\n",
              "      buttonEl.style.display =\n",
              "        google.colab.kernel.accessAllowed ? 'block' : 'none';\n",
              "\n",
              "      async function convertToInteractive(key) {\n",
              "        const element = document.querySelector('#df-b648d494-d15b-403b-a074-2c1e62c62a52');\n",
              "        const dataTable =\n",
              "          await google.colab.kernel.invokeFunction('convertToInteractive',\n",
              "                                                    [key], {});\n",
              "        if (!dataTable) return;\n",
              "\n",
              "        const docLinkHtml = 'Like what you see? Visit the ' +\n",
              "          '<a target=\"_blank\" href=https://colab.research.google.com/notebooks/data_table.ipynb>data table notebook</a>'\n",
              "          + ' to learn more about interactive tables.';\n",
              "        element.innerHTML = '';\n",
              "        dataTable['output_type'] = 'display_data';\n",
              "        await google.colab.output.renderOutput(dataTable, element);\n",
              "        const docLink = document.createElement('div');\n",
              "        docLink.innerHTML = docLinkHtml;\n",
              "        element.appendChild(docLink);\n",
              "      }\n",
              "    </script>\n",
              "  </div>\n",
              "\n",
              "\n",
              "<div id=\"df-69e04a05-c006-497f-826a-7a53fbad9206\">\n",
              "  <button class=\"colab-df-quickchart\" onclick=\"quickchart('df-69e04a05-c006-497f-826a-7a53fbad9206')\"\n",
              "            title=\"Suggest charts\"\n",
              "            style=\"display:none;\">\n",
              "\n",
              "<svg xmlns=\"http://www.w3.org/2000/svg\" height=\"24px\"viewBox=\"0 0 24 24\"\n",
              "     width=\"24px\">\n",
              "    <g>\n",
              "        <path d=\"M19 3H5c-1.1 0-2 .9-2 2v14c0 1.1.9 2 2 2h14c1.1 0 2-.9 2-2V5c0-1.1-.9-2-2-2zM9 17H7v-7h2v7zm4 0h-2V7h2v10zm4 0h-2v-4h2v4z\"/>\n",
              "    </g>\n",
              "</svg>\n",
              "  </button>\n",
              "\n",
              "<style>\n",
              "  .colab-df-quickchart {\n",
              "      --bg-color: #E8F0FE;\n",
              "      --fill-color: #1967D2;\n",
              "      --hover-bg-color: #E2EBFA;\n",
              "      --hover-fill-color: #174EA6;\n",
              "      --disabled-fill-color: #AAA;\n",
              "      --disabled-bg-color: #DDD;\n",
              "  }\n",
              "\n",
              "  [theme=dark] .colab-df-quickchart {\n",
              "      --bg-color: #3B4455;\n",
              "      --fill-color: #D2E3FC;\n",
              "      --hover-bg-color: #434B5C;\n",
              "      --hover-fill-color: #FFFFFF;\n",
              "      --disabled-bg-color: #3B4455;\n",
              "      --disabled-fill-color: #666;\n",
              "  }\n",
              "\n",
              "  .colab-df-quickchart {\n",
              "    background-color: var(--bg-color);\n",
              "    border: none;\n",
              "    border-radius: 50%;\n",
              "    cursor: pointer;\n",
              "    display: none;\n",
              "    fill: var(--fill-color);\n",
              "    height: 32px;\n",
              "    padding: 0;\n",
              "    width: 32px;\n",
              "  }\n",
              "\n",
              "  .colab-df-quickchart:hover {\n",
              "    background-color: var(--hover-bg-color);\n",
              "    box-shadow: 0 1px 2px rgba(60, 64, 67, 0.3), 0 1px 3px 1px rgba(60, 64, 67, 0.15);\n",
              "    fill: var(--button-hover-fill-color);\n",
              "  }\n",
              "\n",
              "  .colab-df-quickchart-complete:disabled,\n",
              "  .colab-df-quickchart-complete:disabled:hover {\n",
              "    background-color: var(--disabled-bg-color);\n",
              "    fill: var(--disabled-fill-color);\n",
              "    box-shadow: none;\n",
              "  }\n",
              "\n",
              "  .colab-df-spinner {\n",
              "    border: 2px solid var(--fill-color);\n",
              "    border-color: transparent;\n",
              "    border-bottom-color: var(--fill-color);\n",
              "    animation:\n",
              "      spin 1s steps(1) infinite;\n",
              "  }\n",
              "\n",
              "  @keyframes spin {\n",
              "    0% {\n",
              "      border-color: transparent;\n",
              "      border-bottom-color: var(--fill-color);\n",
              "      border-left-color: var(--fill-color);\n",
              "    }\n",
              "    20% {\n",
              "      border-color: transparent;\n",
              "      border-left-color: var(--fill-color);\n",
              "      border-top-color: var(--fill-color);\n",
              "    }\n",
              "    30% {\n",
              "      border-color: transparent;\n",
              "      border-left-color: var(--fill-color);\n",
              "      border-top-color: var(--fill-color);\n",
              "      border-right-color: var(--fill-color);\n",
              "    }\n",
              "    40% {\n",
              "      border-color: transparent;\n",
              "      border-right-color: var(--fill-color);\n",
              "      border-top-color: var(--fill-color);\n",
              "    }\n",
              "    60% {\n",
              "      border-color: transparent;\n",
              "      border-right-color: var(--fill-color);\n",
              "    }\n",
              "    80% {\n",
              "      border-color: transparent;\n",
              "      border-right-color: var(--fill-color);\n",
              "      border-bottom-color: var(--fill-color);\n",
              "    }\n",
              "    90% {\n",
              "      border-color: transparent;\n",
              "      border-bottom-color: var(--fill-color);\n",
              "    }\n",
              "  }\n",
              "</style>\n",
              "\n",
              "  <script>\n",
              "    async function quickchart(key) {\n",
              "      const quickchartButtonEl =\n",
              "        document.querySelector('#' + key + ' button');\n",
              "      quickchartButtonEl.disabled = true;  // To prevent multiple clicks.\n",
              "      quickchartButtonEl.classList.add('colab-df-spinner');\n",
              "      try {\n",
              "        const charts = await google.colab.kernel.invokeFunction(\n",
              "            'suggestCharts', [key], {});\n",
              "      } catch (error) {\n",
              "        console.error('Error during call to suggestCharts:', error);\n",
              "      }\n",
              "      quickchartButtonEl.classList.remove('colab-df-spinner');\n",
              "      quickchartButtonEl.classList.add('colab-df-quickchart-complete');\n",
              "    }\n",
              "    (() => {\n",
              "      let quickchartButtonEl =\n",
              "        document.querySelector('#df-69e04a05-c006-497f-826a-7a53fbad9206 button');\n",
              "      quickchartButtonEl.style.display =\n",
              "        google.colab.kernel.accessAllowed ? 'block' : 'none';\n",
              "    })();\n",
              "  </script>\n",
              "</div>\n",
              "\n",
              "    </div>\n",
              "  </div>\n"
            ],
            "application/vnd.google.colaboratory.intrinsic+json": {
              "type": "dataframe",
              "variable_name": "records"
            }
          },
          "metadata": {},
          "execution_count": 11
        }
      ]
    },
    {
      "cell_type": "markdown",
      "source": [
        "Note: Some students take quarters off"
      ],
      "metadata": {
        "id": "IACf_291PZEN"
      }
    },
    {
      "cell_type": "markdown",
      "source": [
        "# Trend Analysis"
      ],
      "metadata": {
        "id": "0wSQuOGqQaIt"
      }
    },
    {
      "cell_type": "code",
      "source": [
        "quarters = ['Q1','Q2','Q3','Q4','Q5']\n",
        "avg_cs_gpa = [records[f'{q}_CS_GPA'].mean() for q in quarters]\n",
        "avg_overall_gpa = [records[f'{q}_Overall_GPA'].mean() for q in quarters]"
      ],
      "metadata": {
        "id": "G-pwa9XbQdcW"
      },
      "execution_count": 12,
      "outputs": []
    },
    {
      "cell_type": "code",
      "source": [
        "# Plot\n",
        "plt.figure(figsize=(10,6))\n",
        "plt.plot(quarters, avg_cs_gpa, label='Average CS GPA', marker='o')\n",
        "plt.plot(quarters, avg_overall_gpa, label='Average Overall GPA', marker='o')\n",
        "\n",
        "# Add labels and title\n",
        "plt.title('Trend of Average CS GPA and Overall GPA Across Quarters')\n",
        "plt.xlabel('Quarters')\n",
        "plt.ylabel('GPA')\n",
        "plt.legend()\n",
        "plt.grid(True)\n",
        "plt.show()"
      ],
      "metadata": {
        "colab": {
          "base_uri": "https://localhost:8080/",
          "height": 564
        },
        "id": "Y0wYsYEzRYi7",
        "outputId": "aada1faf-e868-4644-cef6-8777319b3276"
      },
      "execution_count": 13,
      "outputs": [
        {
          "output_type": "display_data",
          "data": {
            "text/plain": [
              "<Figure size 1000x600 with 1 Axes>"
            ],
            "image/png": "[encoded data removed]"
          },
          "metadata": {}
        }
      ]
    },
    {
      "cell_type": "markdown",
      "source": [
        "# Will taking a break affect performance?"
      ],
      "metadata": {
        "id": "Zdv2yOrtUAVB"
      }
    },
    {
      "cell_type": "code",
      "source": [
        "quarters = ['Q1','Q2','Q3','Q4','Q5']\n",
        "time = []\n",
        "\n",
        "for q in quarters:\n",
        "  time += records[f'{q}_Timestamp'].unique().tolist()\n",
        "\n",
        "time = sorted(list(set(time)))"
      ],
      "metadata": {
        "id": "ZJ7yXQ3VTN03"
      },
      "execution_count": 14,
      "outputs": []
    },
    {
      "cell_type": "code",
      "source": [
        "time"
      ],
      "metadata": {
        "colab": {
          "base_uri": "https://localhost:8080/"
        },
        "id": "lUcOxtWNhBem",
        "outputId": "4d9941be-7fa0-4115-ba98-fee78c4c2c18"
      },
      "execution_count": 15,
      "outputs": [
        {
          "output_type": "execute_result",
          "data": {
            "text/plain": [
              "[202103,\n",
              " 202108,\n",
              " 202201,\n",
              " 202203,\n",
              " 202208,\n",
              " 202301,\n",
              " 202303,\n",
              " 202308,\n",
              " 202401,\n",
              " 202403,\n",
              " 202408,\n",
              " 202501,\n",
              " 202503,\n",
              " 202508]"
            ]
          },
          "metadata": {},
          "execution_count": 15
        }
      ]
    },
    {
      "cell_type": "code",
      "source": [
        "consecutive = []\n",
        "nonconsecutive = []\n",
        "\n",
        "for i in range(50):\n",
        "  individual = records.iloc[i]\n",
        "  first_quarter = individual['Q1_Timestamp']\n",
        "  last_quarter = individual['Q5_Timestamp']\n",
        "\n",
        "\n",
        "  if time[time.index(first_quarter) + 4] == last_quarter:\n",
        "    consecutive.append(individual['StudentID'])\n",
        "  else:\n",
        "    nonconsecutive.append(individual['StudentID'])"
      ],
      "metadata": {
        "id": "6L5Ev3ZtfLy4"
      },
      "execution_count": 16,
      "outputs": []
    },
    {
      "cell_type": "code",
      "source": [
        "# Data for the pie chart\n",
        "labels = ['Consecutive', 'Non-consecutive']\n",
        "sizes = [len(consecutive), len(nonconsecutive)]\n",
        "colors = ['#ff9999','#66b3ff']\n",
        "\n",
        "# Plotting the pie chart\n",
        "plt.pie(sizes, labels=labels, colors=colors, autopct='%1.1f%%', startangle=140)\n",
        "\n",
        "# Equal aspect ratio ensures the pie is drawn as a circle.\n",
        "plt.axis('equal')\n",
        "\n",
        "# Display the plot\n",
        "plt.title('Consecutivity Students')\n",
        "plt.show()"
      ],
      "metadata": {
        "colab": {
          "base_uri": "https://localhost:8080/",
          "height": 428
        },
        "id": "UOfuKvpliI8B",
        "outputId": "ec6ddd4c-3ac7-4be1-adaa-b21cbc7ca637"
      },
      "execution_count": 17,
      "outputs": [
        {
          "output_type": "display_data",
          "data": {
            "text/plain": [
              "<Figure size 640x480 with 1 Axes>"
            ],
            "image/png": "[encoded data removed]"
          },
          "metadata": {}
        }
      ]
    },
    {
      "cell_type": "code",
      "source": [
        "consecutive = records[records['StudentID'].isin(consecutive)]\n",
        "nonconsecutive = records[records['StudentID'].isin(nonconsecutive)]"
      ],
      "metadata": {
        "id": "qIJPMuYvk6i1"
      },
      "execution_count": 18,
      "outputs": []
    },
    {
      "cell_type": "code",
      "source": [
        "quarters = ['Q1','Q2','Q3','Q4','Q5']\n",
        "avg_con_cs_gpa = [consecutive[f'{q}_CS_GPA'].mean() for q in quarters]\n",
        "avg_con_overall_gpa = [consecutive[f'{q}_Overall_GPA'].mean() for q in quarters]\n",
        "\n",
        "avg_non_con_cs_gpa = [nonconsecutive[f'{q}_CS_GPA'].mean() for q in quarters]\n",
        "avg_non_con_overall_gpa = [nonconsecutive[f'{q}_Overall_GPA'].mean() for q in quarters]\n",
        "\n",
        "# Plot\n",
        "plt.figure(figsize=(10,6))\n",
        "plt.plot(quarters, avg_con_cs_gpa, label='Average Consecutive CS GPA', marker='o')\n",
        "plt.plot(quarters, avg_non_con_cs_gpa, label='Average Nonconsecutive CS GPA', marker='o')\n",
        "\n",
        "# Add labels and title\n",
        "plt.title('Con vs Noncon Average CS GPA')\n",
        "plt.xlabel('Quarters')\n",
        "plt.ylabel('GPA')\n",
        "plt.legend()\n",
        "plt.grid(True)\n",
        "plt.show()"
      ],
      "metadata": {
        "colab": {
          "base_uri": "https://localhost:8080/",
          "height": 559
        },
        "id": "CzZUyqOHiROn",
        "outputId": "dcf0f6e5-ea86-4a2b-a5cd-a2e51eff0e77"
      },
      "execution_count": 19,
      "outputs": [
        {
          "output_type": "display_data",
          "data": {
            "text/plain": [
              "<Figure size 1000x600 with 1 Axes>"
            ],
            "image/png": "[encoded data removed]"
          },
          "metadata": {}
        }
      ]
    },
    {
      "cell_type": "code",
      "source": [
        "# Plot\n",
        "plt.figure(figsize=(10,6))\n",
        "plt.plot(quarters, avg_con_overall_gpa, label='Average Consecutive Overall GPA', marker='o')\n",
        "plt.plot(quarters, avg_non_con_overall_gpa, label='Average Nonconsecutive Overall GPA', marker='o')\n",
        "\n",
        "# Add labels and title\n",
        "plt.title('Con vs Noncon Average Overall GPA')\n",
        "plt.xlabel('Quarters')\n",
        "plt.ylabel('GPA')\n",
        "plt.legend()\n",
        "plt.grid(True)\n",
        "plt.show()"
      ],
      "metadata": {
        "colab": {
          "base_uri": "https://localhost:8080/",
          "height": 559
        },
        "id": "Xf91mHFAivl-",
        "outputId": "9564fa7c-b887-4a26-bbd1-9f44af74ee19"
      },
      "execution_count": 20,
      "outputs": [
        {
          "output_type": "display_data",
          "data": {
            "text/plain": [
              "<Figure size 1000x600 with 1 Axes>"
            ],
            "image/png": "[encoded data removed]"
          },
          "metadata": {}
        }
      ]
    },
    {
      "cell_type": "code",
      "source": [
        "consecutive['Total_CS_Units'].describe()"
      ],
      "metadata": {
        "colab": {
          "base_uri": "https://localhost:8080/",
          "height": 335
        },
        "id": "sGBe6xSFneHO",
        "outputId": "9d765dbe-77b9-4779-c3f4-b48e0031a1d2"
      },
      "execution_count": 21,
      "outputs": [
        {
          "output_type": "execute_result",
          "data": {
            "text/plain": [
              "count    29.000000\n",
              "mean     59.344828\n",
              "std       5.245923\n",
              "min      47.000000\n",
              "25%      56.000000\n",
              "50%      59.000000\n",
              "75%      62.000000\n",
              "max      74.000000\n",
              "Name: Total_CS_Units, dtype: float64"
            ],
            "text/html": [
              "<div>\n",
              "<style scoped>\n",
              "    .dataframe tbody tr th:only-of-type {\n",
              "        vertical-align: middle;\n",
              "    }\n",
              "\n",
              "    .dataframe tbody tr th {\n",
              "        vertical-align: top;\n",
              "    }\n",
              "\n",
              "    .dataframe thead th {\n",
              "        text-align: right;\n",
              "    }\n",
              "</style>\n",
              "<table border=\"1\" class=\"dataframe\">\n",
              "  <thead>\n",
              "    <tr style=\"text-align: right;\">\n",
              "      <th></th>\n",
              "      <th>Total_CS_Units</th>\n",
              "    </tr>\n",
              "  </thead>\n",
              "  <tbody>\n",
              "    <tr>\n",
              "      <th>count</th>\n",
              "      <td>29.000000</td>\n",
              "    </tr>\n",
              "    <tr>\n",
              "      <th>mean</th>\n",
              "      <td>59.344828</td>\n",
              "    </tr>\n",
              "    <tr>\n",
              "      <th>std</th>\n",
              "      <td>5.245923</td>\n",
              "    </tr>\n",
              "    <tr>\n",
              "      <th>min</th>\n",
              "      <td>47.000000</td>\n",
              "    </tr>\n",
              "    <tr>\n",
              "      <th>25%</th>\n",
              "      <td>56.000000</td>\n",
              "    </tr>\n",
              "    <tr>\n",
              "      <th>50%</th>\n",
              "      <td>59.000000</td>\n",
              "    </tr>\n",
              "    <tr>\n",
              "      <th>75%</th>\n",
              "      <td>62.000000</td>\n",
              "    </tr>\n",
              "    <tr>\n",
              "      <th>max</th>\n",
              "      <td>74.000000</td>\n",
              "    </tr>\n",
              "  </tbody>\n",
              "</table>\n",
              "</div><br><label><b>dtype:</b> float64</label>"
            ]
          },
          "metadata": {},
          "execution_count": 21
        }
      ]
    },
    {
      "cell_type": "code",
      "source": [
        "nonconsecutive['Total_CS_Units'].describe()"
      ],
      "metadata": {
        "colab": {
          "base_uri": "https://localhost:8080/",
          "height": 335
        },
        "id": "bdR2EJ70rV5J",
        "outputId": "6e8f2a86-85f6-4d44-e7b7-a7dff14d62f3"
      },
      "execution_count": 22,
      "outputs": [
        {
          "output_type": "execute_result",
          "data": {
            "text/plain": [
              "count    21.000000\n",
              "mean     60.190476\n",
              "std       4.190693\n",
              "min      53.000000\n",
              "25%      58.000000\n",
              "50%      60.000000\n",
              "75%      63.000000\n",
              "max      69.000000\n",
              "Name: Total_CS_Units, dtype: float64"
            ],
            "text/html": [
              "<div>\n",
              "<style scoped>\n",
              "    .dataframe tbody tr th:only-of-type {\n",
              "        vertical-align: middle;\n",
              "    }\n",
              "\n",
              "    .dataframe tbody tr th {\n",
              "        vertical-align: top;\n",
              "    }\n",
              "\n",
              "    .dataframe thead th {\n",
              "        text-align: right;\n",
              "    }\n",
              "</style>\n",
              "<table border=\"1\" class=\"dataframe\">\n",
              "  <thead>\n",
              "    <tr style=\"text-align: right;\">\n",
              "      <th></th>\n",
              "      <th>Total_CS_Units</th>\n",
              "    </tr>\n",
              "  </thead>\n",
              "  <tbody>\n",
              "    <tr>\n",
              "      <th>count</th>\n",
              "      <td>21.000000</td>\n",
              "    </tr>\n",
              "    <tr>\n",
              "      <th>mean</th>\n",
              "      <td>60.190476</td>\n",
              "    </tr>\n",
              "    <tr>\n",
              "      <th>std</th>\n",
              "      <td>4.190693</td>\n",
              "    </tr>\n",
              "    <tr>\n",
              "      <th>min</th>\n",
              "      <td>53.000000</td>\n",
              "    </tr>\n",
              "    <tr>\n",
              "      <th>25%</th>\n",
              "      <td>58.000000</td>\n",
              "    </tr>\n",
              "    <tr>\n",
              "      <th>50%</th>\n",
              "      <td>60.000000</td>\n",
              "    </tr>\n",
              "    <tr>\n",
              "      <th>75%</th>\n",
              "      <td>63.000000</td>\n",
              "    </tr>\n",
              "    <tr>\n",
              "      <th>max</th>\n",
              "      <td>69.000000</td>\n",
              "    </tr>\n",
              "  </tbody>\n",
              "</table>\n",
              "</div><br><label><b>dtype:</b> float64</label>"
            ]
          },
          "metadata": {},
          "execution_count": 22
        }
      ]
    },
    {
      "cell_type": "code",
      "source": [
        "consecutive['Total_Overall_Units'].describe()"
      ],
      "metadata": {
        "colab": {
          "base_uri": "https://localhost:8080/",
          "height": 335
        },
        "id": "U2L9n0_Vrbvk",
        "outputId": "8ecef8c6-1706-4b2e-f78d-559ec123f106"
      },
      "execution_count": 23,
      "outputs": [
        {
          "output_type": "execute_result",
          "data": {
            "text/plain": [
              "count    29.000000\n",
              "mean     69.137931\n",
              "std       5.309857\n",
              "min      55.000000\n",
              "25%      66.000000\n",
              "50%      69.000000\n",
              "75%      73.000000\n",
              "max      83.000000\n",
              "Name: Total_Overall_Units, dtype: float64"
            ],
            "text/html": [
              "<div>\n",
              "<style scoped>\n",
              "    .dataframe tbody tr th:only-of-type {\n",
              "        vertical-align: middle;\n",
              "    }\n",
              "\n",
              "    .dataframe tbody tr th {\n",
              "        vertical-align: top;\n",
              "    }\n",
              "\n",
              "    .dataframe thead th {\n",
              "        text-align: right;\n",
              "    }\n",
              "</style>\n",
              "<table border=\"1\" class=\"dataframe\">\n",
              "  <thead>\n",
              "    <tr style=\"text-align: right;\">\n",
              "      <th></th>\n",
              "      <th>Total_Overall_Units</th>\n",
              "    </tr>\n",
              "  </thead>\n",
              "  <tbody>\n",
              "    <tr>\n",
              "      <th>count</th>\n",
              "      <td>29.000000</td>\n",
              "    </tr>\n",
              "    <tr>\n",
              "      <th>mean</th>\n",
              "      <td>69.137931</td>\n",
              "    </tr>\n",
              "    <tr>\n",
              "      <th>std</th>\n",
              "      <td>5.309857</td>\n",
              "    </tr>\n",
              "    <tr>\n",
              "      <th>min</th>\n",
              "      <td>55.000000</td>\n",
              "    </tr>\n",
              "    <tr>\n",
              "      <th>25%</th>\n",
              "      <td>66.000000</td>\n",
              "    </tr>\n",
              "    <tr>\n",
              "      <th>50%</th>\n",
              "      <td>69.000000</td>\n",
              "    </tr>\n",
              "    <tr>\n",
              "      <th>75%</th>\n",
              "      <td>73.000000</td>\n",
              "    </tr>\n",
              "    <tr>\n",
              "      <th>max</th>\n",
              "      <td>83.000000</td>\n",
              "    </tr>\n",
              "  </tbody>\n",
              "</table>\n",
              "</div><br><label><b>dtype:</b> float64</label>"
            ]
          },
          "metadata": {},
          "execution_count": 23
        }
      ]
    },
    {
      "cell_type": "code",
      "source": [
        "nonconsecutive['Total_Overall_Units'].describe()"
      ],
      "metadata": {
        "colab": {
          "base_uri": "https://localhost:8080/",
          "height": 335
        },
        "id": "czWyM5V6rb8_",
        "outputId": "2a98b247-28d2-4c01-acf0-318135fad5ae"
      },
      "execution_count": 24,
      "outputs": [
        {
          "output_type": "execute_result",
          "data": {
            "text/plain": [
              "count    21.000000\n",
              "mean     71.095238\n",
              "std       6.032452\n",
              "min      62.000000\n",
              "25%      67.000000\n",
              "50%      71.000000\n",
              "75%      74.000000\n",
              "max      85.000000\n",
              "Name: Total_Overall_Units, dtype: float64"
            ],
            "text/html": [
              "<div>\n",
              "<style scoped>\n",
              "    .dataframe tbody tr th:only-of-type {\n",
              "        vertical-align: middle;\n",
              "    }\n",
              "\n",
              "    .dataframe tbody tr th {\n",
              "        vertical-align: top;\n",
              "    }\n",
              "\n",
              "    .dataframe thead th {\n",
              "        text-align: right;\n",
              "    }\n",
              "</style>\n",
              "<table border=\"1\" class=\"dataframe\">\n",
              "  <thead>\n",
              "    <tr style=\"text-align: right;\">\n",
              "      <th></th>\n",
              "      <th>Total_Overall_Units</th>\n",
              "    </tr>\n",
              "  </thead>\n",
              "  <tbody>\n",
              "    <tr>\n",
              "      <th>count</th>\n",
              "      <td>21.000000</td>\n",
              "    </tr>\n",
              "    <tr>\n",
              "      <th>mean</th>\n",
              "      <td>71.095238</td>\n",
              "    </tr>\n",
              "    <tr>\n",
              "      <th>std</th>\n",
              "      <td>6.032452</td>\n",
              "    </tr>\n",
              "    <tr>\n",
              "      <th>min</th>\n",
              "      <td>62.000000</td>\n",
              "    </tr>\n",
              "    <tr>\n",
              "      <th>25%</th>\n",
              "      <td>67.000000</td>\n",
              "    </tr>\n",
              "    <tr>\n",
              "      <th>50%</th>\n",
              "      <td>71.000000</td>\n",
              "    </tr>\n",
              "    <tr>\n",
              "      <th>75%</th>\n",
              "      <td>74.000000</td>\n",
              "    </tr>\n",
              "    <tr>\n",
              "      <th>max</th>\n",
              "      <td>85.000000</td>\n",
              "    </tr>\n",
              "  </tbody>\n",
              "</table>\n",
              "</div><br><label><b>dtype:</b> float64</label>"
            ]
          },
          "metadata": {},
          "execution_count": 24
        }
      ]
    },
    {
      "cell_type": "code",
      "source": [
        "# 1. Plotting Histogram\n",
        "plt.hist(records['Weighted_CS_GPA'], bins=20, edgecolor='black', alpha=0.7)\n",
        "plt.title('GPA Histogram')\n",
        "plt.xlabel('GPA')\n",
        "plt.ylabel('Frequency')\n",
        "plt.show()"
      ],
      "metadata": {
        "colab": {
          "base_uri": "https://localhost:8080/",
          "height": 472
        },
        "id": "ZxuysQwarV_y",
        "outputId": "08955c95-fc09-4991-97c7-8beb61b5cb93"
      },
      "execution_count": 25,
      "outputs": [
        {
          "output_type": "display_data",
          "data": {
            "text/plain": [
              "<Figure size 640x480 with 1 Axes>"
            ],
            "image/png": "[encoded data removed]"
          },
          "metadata": {}
        }
      ]
    },
    {
      "cell_type": "code",
      "source": [
        "from statsmodels.graphics.gofplots import qqplot\n",
        "import scipy.stats as stats"
      ],
      "metadata": {
        "id": "f8GwVh5QuEFn"
      },
      "execution_count": 26,
      "outputs": []
    },
    {
      "cell_type": "code",
      "source": [
        "qqplot(records['Weighted_CS_GPA'], line='s')\n",
        "plt.title('Q-Q Plot for Weighted Overall GPA')\n",
        "plt.show()"
      ],
      "metadata": {
        "colab": {
          "base_uri": "https://localhost:8080/",
          "height": 472
        },
        "id": "EDWykgoOuFXy",
        "outputId": "26666190-5ee0-4d02-d055-7d4a14fe3809"
      },
      "execution_count": 70,
      "outputs": [
        {
          "output_type": "display_data",
          "data": {
            "text/plain": [
              "<Figure size 640x480 with 1 Axes>"
            ],
            "image/png": "[encoded data removed]"
          },
          "metadata": {}
        }
      ]
    },
    {
      "cell_type": "code",
      "source": [
        "shapiro_test = stats.shapiro(records['Weighted_CS_GPA'])\n",
        "print(f\"Shapiro-Wilk Test: W={shapiro_test[0]}, p-value={shapiro_test[1]}\")"
      ],
      "metadata": {
        "colab": {
          "base_uri": "https://localhost:8080/"
        },
        "id": "T30UT3svutI7",
        "outputId": "6f39342b-8c01-4323-c495-f2820c9eee94"
      },
      "execution_count": 28,
      "outputs": [
        {
          "output_type": "stream",
          "name": "stdout",
          "text": [
            "Shapiro-Wilk Test: W=0.9654636219888313, p-value=0.1504766968144286\n"
          ]
        }
      ]
    },
    {
      "cell_type": "code",
      "source": [
        "records['Weighted_CS_GPA'].skew()"
      ],
      "metadata": {
        "colab": {
          "base_uri": "https://localhost:8080/"
        },
        "id": "9TUBpSyXu9gv",
        "outputId": "84e29f62-2401-43a5-d36e-ffb869618438"
      },
      "execution_count": 29,
      "outputs": [
        {
          "output_type": "execute_result",
          "data": {
            "text/plain": [
              "0.4857881114065211"
            ]
          },
          "metadata": {},
          "execution_count": 29
        }
      ]
    },
    {
      "cell_type": "code",
      "source": [
        "records['Weighted_CS_GPA'].kurtosis()"
      ],
      "metadata": {
        "colab": {
          "base_uri": "https://localhost:8080/"
        },
        "id": "cgNumtoevOAf",
        "outputId": "4c54442c-7f22-4ca1-b104-7df6a7c5c1e8"
      },
      "execution_count": 30,
      "outputs": [
        {
          "output_type": "execute_result",
          "data": {
            "text/plain": [
              "1.0582522035175153"
            ]
          },
          "metadata": {},
          "execution_count": 30
        }
      ]
    },
    {
      "cell_type": "code",
      "source": [
        "records.columns"
      ],
      "metadata": {
        "colab": {
          "base_uri": "https://localhost:8080/"
        },
        "id": "r6M2OxtS15JB",
        "outputId": "df1817cc-443c-42e1-b1a0-9bc1d0673550"
      },
      "execution_count": 31,
      "outputs": [
        {
          "output_type": "execute_result",
          "data": {
            "text/plain": [
              "Index(['StudentID', 'Q1_Timestamp', 'Q1_CS_GPA', 'Q1_Overall_GPA',\n",
              "       'Q1_CS_Units', 'Q1_Total_Units', 'Q2_Timestamp', 'Q2_CS_GPA',\n",
              "       'Q2_Overall_GPA', 'Q2_CS_Units', 'Q2_Total_Units', 'Q3_Timestamp',\n",
              "       'Q3_CS_GPA', 'Q3_Overall_GPA', 'Q3_CS_Units', 'Q3_Total_Units',\n",
              "       'Q4_Timestamp', 'Q4_CS_GPA', 'Q4_Overall_GPA', 'Q4_CS_Units',\n",
              "       'Q4_Total_Units', 'Q5_Timestamp', 'Q5_CS_GPA', 'Q5_Overall_GPA',\n",
              "       'Q5_CS_Units', 'Q5_Total_Units', 'Avg_CS_GPA', 'Avg_Overall_GPA',\n",
              "       'Weighted_CS_GPA', 'Weighted_Overall_GPA', 'Total_CS_Units',\n",
              "       'Total_Overall_Units'],\n",
              "      dtype='object')"
            ]
          },
          "metadata": {},
          "execution_count": 31
        }
      ]
    },
    {
      "cell_type": "markdown",
      "source": [
        "# Independent T-test to compare students who took a gap quarter and student who didn't"
      ],
      "metadata": {
        "id": "GNVu9riJ0ptv"
      }
    },
    {
      "cell_type": "code",
      "source": [
        "from scipy.stats import ttest_ind\n",
        "\n",
        "ttest_result = ttest_ind(nonconsecutive['Avg_CS_GPA'], consecutive['Avg_CS_GPA'], equal_var=False)\n",
        "print(f\"t-statistic={ttest_result.statistic}, p-value={ttest_result.pvalue}\")"
      ],
      "metadata": {
        "colab": {
          "base_uri": "https://localhost:8080/"
        },
        "id": "ZN2-npyvwusA",
        "outputId": "857a1f74-4ee1-437b-c9a3-09591ee30854"
      },
      "execution_count": 32,
      "outputs": [
        {
          "output_type": "stream",
          "name": "stdout",
          "text": [
            "t-statistic=0.0008809489731538439, p-value=0.999301970218495\n"
          ]
        }
      ]
    },
    {
      "cell_type": "markdown",
      "source": [
        "# Focus only on students who took gap quarter, check their before and after"
      ],
      "metadata": {
        "id": "Mls7D9LP1fWL"
      }
    },
    {
      "cell_type": "code",
      "source": [
        "nonconsecutive.head()"
      ],
      "metadata": {
        "colab": {
          "base_uri": "https://localhost:8080/",
          "height": 256
        },
        "id": "x9HtEifryvj8",
        "outputId": "389d59a6-e05b-4ddb-a63f-b80664547098"
      },
      "execution_count": 33,
      "outputs": [
        {
          "output_type": "execute_result",
          "data": {
            "text/plain": [
              "   StudentID  Q1_Timestamp  Q1_CS_GPA  Q1_Overall_GPA  Q1_CS_Units  \\\n",
              "0          1        202308       3.25            3.22           11   \n",
              "1          2        202108       2.77            2.68            8   \n",
              "6          7        202308       2.76            2.72           16   \n",
              "7          8        202201       3.18            3.49           12   \n",
              "9         10        202401       3.05            3.24           12   \n",
              "\n",
              "   Q1_Total_Units  Q2_Timestamp  Q2_CS_GPA  Q2_Overall_GPA  Q2_CS_Units  ...  \\\n",
              "0              12        202401       3.32            3.62           16  ...   \n",
              "1               9        202201       3.12            2.74           13  ...   \n",
              "6              16        202401       2.45            2.21            9  ...   \n",
              "7              16        202203       2.98            3.29           10  ...   \n",
              "9              15        202403       2.65            2.58           13  ...   \n",
              "\n",
              "   Q5_CS_GPA  Q5_Overall_GPA  Q5_CS_Units  Q5_Total_Units  Avg_CS_GPA  \\\n",
              "0       2.77            2.88           16              19       3.202   \n",
              "1       2.55            2.27           16              16       2.614   \n",
              "6       3.18            3.05           12              16       2.952   \n",
              "7       3.05            2.65           12              13       2.788   \n",
              "9       3.00            2.95           11              11       2.930   \n",
              "\n",
              "   Avg_Overall_GPA  Weighted_CS_GPA  Weighted_Overall_GPA  Total_CS_Units  \\\n",
              "0            3.298         3.161864              3.301493              59   \n",
              "1            2.454         2.600323              2.438923              62   \n",
              "6            2.964         2.971667              2.957324              60   \n",
              "7            2.852         2.716190              2.785065              63   \n",
              "9            2.896         2.906667              2.870294              60   \n",
              "\n",
              "   Total_Overall_Units  \n",
              "0                   67  \n",
              "1                   65  \n",
              "6                   71  \n",
              "7                   77  \n",
              "9                   68  \n",
              "\n",
              "[5 rows x 32 columns]"
            ],
            "text/html": [
              "\n",
              "  <div id=\"df-c1b3acd1-9dc8-4415-99cc-7461d06a4e1f\" class=\"colab-df-container\">\n",
              "    <div>\n",
              "<style scoped>\n",
              "    .dataframe tbody tr th:only-of-type {\n",
              "        vertical-align: middle;\n",
              "    }\n",
              "\n",
              "    .dataframe tbody tr th {\n",
              "        vertical-align: top;\n",
              "    }\n",
              "\n",
              "    .dataframe thead th {\n",
              "        text-align: right;\n",
              "    }\n",
              "</style>\n",
              "<table border=\"1\" class=\"dataframe\">\n",
              "  <thead>\n",
              "    <tr style=\"text-align: right;\">\n",
              "      <th></th>\n",
              "      <th>StudentID</th>\n",
              "      <th>Q1_Timestamp</th>\n",
              "      <th>Q1_CS_GPA</th>\n",
              "      <th>Q1_Overall_GPA</th>\n",
              "      <th>Q1_CS_Units</th>\n",
              "      <th>Q1_Total_Units</th>\n",
              "      <th>Q2_Timestamp</th>\n",
              "      <th>Q2_CS_GPA</th>\n",
              "      <th>Q2_Overall_GPA</th>\n",
              "      <th>Q2_CS_Units</th>\n",
              "      <th>...</th>\n",
              "      <th>Q5_CS_GPA</th>\n",
              "      <th>Q5_Overall_GPA</th>\n",
              "      <th>Q5_CS_Units</th>\n",
              "      <th>Q5_Total_Units</th>\n",
              "      <th>Avg_CS_GPA</th>\n",
              "      <th>Avg_Overall_GPA</th>\n",
              "      <th>Weighted_CS_GPA</th>\n",
              "      <th>Weighted_Overall_GPA</th>\n",
              "      <th>Total_CS_Units</th>\n",
              "      <th>Total_Overall_Units</th>\n",
              "    </tr>\n",
              "  </thead>\n",
              "  <tbody>\n",
              "    <tr>\n",
              "      <th>0</th>\n",
              "      <td>1</td>\n",
              "      <td>202308</td>\n",
              "      <td>3.25</td>\n",
              "      <td>3.22</td>\n",
              "      <td>11</td>\n",
              "      <td>12</td>\n",
              "      <td>202401</td>\n",
              "      <td>3.32</td>\n",
              "      <td>3.62</td>\n",
              "      <td>16</td>\n",
              "      <td>...</td>\n",
              "      <td>2.77</td>\n",
              "      <td>2.88</td>\n",
              "      <td>16</td>\n",
              "      <td>19</td>\n",
              "      <td>3.202</td>\n",
              "      <td>3.298</td>\n",
              "      <td>3.161864</td>\n",
              "      <td>3.301493</td>\n",
              "      <td>59</td>\n",
              "      <td>67</td>\n",
              "    </tr>\n",
              "    <tr>\n",
              "      <th>1</th>\n",
              "      <td>2</td>\n",
              "      <td>202108</td>\n",
              "      <td>2.77</td>\n",
              "      <td>2.68</td>\n",
              "      <td>8</td>\n",
              "      <td>9</td>\n",
              "      <td>202201</td>\n",
              "      <td>3.12</td>\n",
              "      <td>2.74</td>\n",
              "      <td>13</td>\n",
              "      <td>...</td>\n",
              "      <td>2.55</td>\n",
              "      <td>2.27</td>\n",
              "      <td>16</td>\n",
              "      <td>16</td>\n",
              "      <td>2.614</td>\n",
              "      <td>2.454</td>\n",
              "      <td>2.600323</td>\n",
              "      <td>2.438923</td>\n",
              "      <td>62</td>\n",
              "      <td>65</td>\n",
              "    </tr>\n",
              "    <tr>\n",
              "      <th>6</th>\n",
              "      <td>7</td>\n",
              "      <td>202308</td>\n",
              "      <td>2.76</td>\n",
              "      <td>2.72</td>\n",
              "      <td>16</td>\n",
              "      <td>16</td>\n",
              "      <td>202401</td>\n",
              "      <td>2.45</td>\n",
              "      <td>2.21</td>\n",
              "      <td>9</td>\n",
              "      <td>...</td>\n",
              "      <td>3.18</td>\n",
              "      <td>3.05</td>\n",
              "      <td>12</td>\n",
              "      <td>16</td>\n",
              "      <td>2.952</td>\n",
              "      <td>2.964</td>\n",
              "      <td>2.971667</td>\n",
              "      <td>2.957324</td>\n",
              "      <td>60</td>\n",
              "      <td>71</td>\n",
              "    </tr>\n",
              "    <tr>\n",
              "      <th>7</th>\n",
              "      <td>8</td>\n",
              "      <td>202201</td>\n",
              "      <td>3.18</td>\n",
              "      <td>3.49</td>\n",
              "      <td>12</td>\n",
              "      <td>16</td>\n",
              "      <td>202203</td>\n",
              "      <td>2.98</td>\n",
              "      <td>3.29</td>\n",
              "      <td>10</td>\n",
              "      <td>...</td>\n",
              "      <td>3.05</td>\n",
              "      <td>2.65</td>\n",
              "      <td>12</td>\n",
              "      <td>13</td>\n",
              "      <td>2.788</td>\n",
              "      <td>2.852</td>\n",
              "      <td>2.716190</td>\n",
              "      <td>2.785065</td>\n",
              "      <td>63</td>\n",
              "      <td>77</td>\n",
              "    </tr>\n",
              "    <tr>\n",
              "      <th>9</th>\n",
              "      <td>10</td>\n",
              "      <td>202401</td>\n",
              "      <td>3.05</td>\n",
              "      <td>3.24</td>\n",
              "      <td>12</td>\n",
              "      <td>15</td>\n",
              "      <td>202403</td>\n",
              "      <td>2.65</td>\n",
              "      <td>2.58</td>\n",
              "      <td>13</td>\n",
              "      <td>...</td>\n",
              "      <td>3.00</td>\n",
              "      <td>2.95</td>\n",
              "      <td>11</td>\n",
              "      <td>11</td>\n",
              "      <td>2.930</td>\n",
              "      <td>2.896</td>\n",
              "      <td>2.906667</td>\n",
              "      <td>2.870294</td>\n",
              "      <td>60</td>\n",
              "      <td>68</td>\n",
              "    </tr>\n",
              "  </tbody>\n",
              "</table>\n",
              "<p>5 rows × 32 columns</p>\n",
              "</div>\n",
              "    <div class=\"colab-df-buttons\">\n",
              "\n",
              "  <div class=\"colab-df-container\">\n",
              "    <button class=\"colab-df-convert\" onclick=\"convertToInteractive('df-c1b3acd1-9dc8-4415-99cc-7461d06a4e1f')\"\n",
              "            title=\"Convert this dataframe to an interactive table.\"\n",
              "            style=\"display:none;\">\n",
              "\n",
              "  <svg xmlns=\"http://www.w3.org/2000/svg\" height=\"24px\" viewBox=\"0 -960 960 960\">\n",
              "    <path d=\"M120-120v-720h720v720H120Zm60-500h600v-160H180v160Zm220 220h160v-160H400v160Zm0 220h160v-160H400v160ZM180-400h160v-160H180v160Zm440 0h160v-160H620v160ZM180-180h160v-160H180v160Zm440 0h160v-160H620v160Z\"/>\n",
              "  </svg>\n",
              "    </button>\n",
              "\n",
              "  <style>\n",
              "    .colab-df-container {\n",
              "      display:flex;\n",
              "      gap: 12px;\n",
              "    }\n",
              "\n",
              "    .colab-df-convert {\n",
              "      background-color: #E8F0FE;\n",
              "      border: none;\n",
              "      border-radius: 50%;\n",
              "      cursor: pointer;\n",
              "      display: none;\n",
              "      fill: #1967D2;\n",
              "      height: 32px;\n",
              "      padding: 0 0 0 0;\n",
              "      width: 32px;\n",
              "    }\n",
              "\n",
              "    .colab-df-convert:hover {\n",
              "      background-color: #E2EBFA;\n",
              "      box-shadow: 0px 1px 2px rgba(60, 64, 67, 0.3), 0px 1px 3px 1px rgba(60, 64, 67, 0.15);\n",
              "      fill: #174EA6;\n",
              "    }\n",
              "\n",
              "    .colab-df-buttons div {\n",
              "      margin-bottom: 4px;\n",
              "    }\n",
              "\n",
              "    [theme=dark] .colab-df-convert {\n",
              "      background-color: #3B4455;\n",
              "      fill: #D2E3FC;\n",
              "    }\n",
              "\n",
              "    [theme=dark] .colab-df-convert:hover {\n",
              "      background-color: #434B5C;\n",
              "      box-shadow: 0px 1px 3px 1px rgba(0, 0, 0, 0.15);\n",
              "      filter: drop-shadow(0px 1px 2px rgba(0, 0, 0, 0.3));\n",
              "      fill: #FFFFFF;\n",
              "    }\n",
              "  </style>\n",
              "\n",
              "    <script>\n",
              "      const buttonEl =\n",
              "        document.querySelector('#df-c1b3acd1-9dc8-4415-99cc-7461d06a4e1f button.colab-df-convert');\n",
              "      buttonEl.style.display =\n",
              "        google.colab.kernel.accessAllowed ? 'block' : 'none';\n",
              "\n",
              "      async function convertToInteractive(key) {\n",
              "        const element = document.querySelector('#df-c1b3acd1-9dc8-4415-99cc-7461d06a4e1f');\n",
              "        const dataTable =\n",
              "          await google.colab.kernel.invokeFunction('convertToInteractive',\n",
              "                                                    [key], {});\n",
              "        if (!dataTable) return;\n",
              "\n",
              "        const docLinkHtml = 'Like what you see? Visit the ' +\n",
              "          '<a target=\"_blank\" href=https://colab.research.google.com/notebooks/data_table.ipynb>data table notebook</a>'\n",
              "          + ' to learn more about interactive tables.';\n",
              "        element.innerHTML = '';\n",
              "        dataTable['output_type'] = 'display_data';\n",
              "        await google.colab.output.renderOutput(dataTable, element);\n",
              "        const docLink = document.createElement('div');\n",
              "        docLink.innerHTML = docLinkHtml;\n",
              "        element.appendChild(docLink);\n",
              "      }\n",
              "    </script>\n",
              "  </div>\n",
              "\n",
              "\n",
              "<div id=\"df-ebdbbe32-646c-43ac-b001-6b00f304d3fa\">\n",
              "  <button class=\"colab-df-quickchart\" onclick=\"quickchart('df-ebdbbe32-646c-43ac-b001-6b00f304d3fa')\"\n",
              "            title=\"Suggest charts\"\n",
              "            style=\"display:none;\">\n",
              "\n",
              "<svg xmlns=\"http://www.w3.org/2000/svg\" height=\"24px\"viewBox=\"0 0 24 24\"\n",
              "     width=\"24px\">\n",
              "    <g>\n",
              "        <path d=\"M19 3H5c-1.1 0-2 .9-2 2v14c0 1.1.9 2 2 2h14c1.1 0 2-.9 2-2V5c0-1.1-.9-2-2-2zM9 17H7v-7h2v7zm4 0h-2V7h2v10zm4 0h-2v-4h2v4z\"/>\n",
              "    </g>\n",
              "</svg>\n",
              "  </button>\n",
              "\n",
              "<style>\n",
              "  .colab-df-quickchart {\n",
              "      --bg-color: #E8F0FE;\n",
              "      --fill-color: #1967D2;\n",
              "      --hover-bg-color: #E2EBFA;\n",
              "      --hover-fill-color: #174EA6;\n",
              "      --disabled-fill-color: #AAA;\n",
              "      --disabled-bg-color: #DDD;\n",
              "  }\n",
              "\n",
              "  [theme=dark] .colab-df-quickchart {\n",
              "      --bg-color: #3B4455;\n",
              "      --fill-color: #D2E3FC;\n",
              "      --hover-bg-color: #434B5C;\n",
              "      --hover-fill-color: #FFFFFF;\n",
              "      --disabled-bg-color: #3B4455;\n",
              "      --disabled-fill-color: #666;\n",
              "  }\n",
              "\n",
              "  .colab-df-quickchart {\n",
              "    background-color: var(--bg-color);\n",
              "    border: none;\n",
              "    border-radius: 50%;\n",
              "    cursor: pointer;\n",
              "    display: none;\n",
              "    fill: var(--fill-color);\n",
              "    height: 32px;\n",
              "    padding: 0;\n",
              "    width: 32px;\n",
              "  }\n",
              "\n",
              "  .colab-df-quickchart:hover {\n",
              "    background-color: var(--hover-bg-color);\n",
              "    box-shadow: 0 1px 2px rgba(60, 64, 67, 0.3), 0 1px 3px 1px rgba(60, 64, 67, 0.15);\n",
              "    fill: var(--button-hover-fill-color);\n",
              "  }\n",
              "\n",
              "  .colab-df-quickchart-complete:disabled,\n",
              "  .colab-df-quickchart-complete:disabled:hover {\n",
              "    background-color: var(--disabled-bg-color);\n",
              "    fill: var(--disabled-fill-color);\n",
              "    box-shadow: none;\n",
              "  }\n",
              "\n",
              "  .colab-df-spinner {\n",
              "    border: 2px solid var(--fill-color);\n",
              "    border-color: transparent;\n",
              "    border-bottom-color: var(--fill-color);\n",
              "    animation:\n",
              "      spin 1s steps(1) infinite;\n",
              "  }\n",
              "\n",
              "  @keyframes spin {\n",
              "    0% {\n",
              "      border-color: transparent;\n",
              "      border-bottom-color: var(--fill-color);\n",
              "      border-left-color: var(--fill-color);\n",
              "    }\n",
              "    20% {\n",
              "      border-color: transparent;\n",
              "      border-left-color: var(--fill-color);\n",
              "      border-top-color: var(--fill-color);\n",
              "    }\n",
              "    30% {\n",
              "      border-color: transparent;\n",
              "      border-left-color: var(--fill-color);\n",
              "      border-top-color: var(--fill-color);\n",
              "      border-right-color: var(--fill-color);\n",
              "    }\n",
              "    40% {\n",
              "      border-color: transparent;\n",
              "      border-right-color: var(--fill-color);\n",
              "      border-top-color: var(--fill-color);\n",
              "    }\n",
              "    60% {\n",
              "      border-color: transparent;\n",
              "      border-right-color: var(--fill-color);\n",
              "    }\n",
              "    80% {\n",
              "      border-color: transparent;\n",
              "      border-right-color: var(--fill-color);\n",
              "      border-bottom-color: var(--fill-color);\n",
              "    }\n",
              "    90% {\n",
              "      border-color: transparent;\n",
              "      border-bottom-color: var(--fill-color);\n",
              "    }\n",
              "  }\n",
              "</style>\n",
              "\n",
              "  <script>\n",
              "    async function quickchart(key) {\n",
              "      const quickchartButtonEl =\n",
              "        document.querySelector('#' + key + ' button');\n",
              "      quickchartButtonEl.disabled = true;  // To prevent multiple clicks.\n",
              "      quickchartButtonEl.classList.add('colab-df-spinner');\n",
              "      try {\n",
              "        const charts = await google.colab.kernel.invokeFunction(\n",
              "            'suggestCharts', [key], {});\n",
              "      } catch (error) {\n",
              "        console.error('Error during call to suggestCharts:', error);\n",
              "      }\n",
              "      quickchartButtonEl.classList.remove('colab-df-spinner');\n",
              "      quickchartButtonEl.classList.add('colab-df-quickchart-complete');\n",
              "    }\n",
              "    (() => {\n",
              "      let quickchartButtonEl =\n",
              "        document.querySelector('#df-ebdbbe32-646c-43ac-b001-6b00f304d3fa button');\n",
              "      quickchartButtonEl.style.display =\n",
              "        google.colab.kernel.accessAllowed ? 'block' : 'none';\n",
              "    })();\n",
              "  </script>\n",
              "</div>\n",
              "\n",
              "    </div>\n",
              "  </div>\n"
            ],
            "application/vnd.google.colaboratory.intrinsic+json": {
              "type": "dataframe",
              "variable_name": "nonconsecutive"
            }
          },
          "metadata": {},
          "execution_count": 33
        }
      ]
    },
    {
      "cell_type": "code",
      "source": [
        "quarter_before_gap = []\n",
        "time_before_gap = []\n",
        "time_after_gap = []\n",
        "\n",
        "\n",
        "cs_gpa_before_gap = []\n",
        "cs_gpa_after_gap = []\n",
        "\n",
        "cs_unit_before_gap = []\n",
        "cs_unit_after_gap = []\n",
        "\n",
        "total_unit_before_gap = []\n",
        "total_unit_after_gap = []\n",
        "\n",
        "for i in range(len(nonconsecutive)):\n",
        "\n",
        "\n",
        "  individual = nonconsecutive.iloc[i]\n",
        "  q1 = individual['Q1_Timestamp']\n",
        "  q2 = individual['Q2_Timestamp']\n",
        "  q3 = individual['Q3_Timestamp']\n",
        "  q4 = individual['Q4_Timestamp']\n",
        "  q5 = individual['Q5_Timestamp']\n",
        "\n",
        "\n",
        "  for i,j,k in [(1,q1,q2),(2,q2,q3),(3,q3,q4),(4,q4,q5)]:\n",
        "      if time[time.index(j) + 1] != k:\n",
        "        quarter_before_gap.append(f'Q{i}')\n",
        "\n",
        "        cs_gpa_before_gap.append(individual[f'Q{i}_CS_GPA'])\n",
        "        cs_gpa_after_gap.append(individual[f'Q{i+1}_CS_GPA'])\n",
        "\n",
        "        cs_unit_before_gap.append(individual[f'Q{i}_CS_Units'])\n",
        "        cs_unit_after_gap.append(individual[f'Q{i+1}_CS_Units'])\n",
        "\n",
        "        total_unit_before_gap.append(individual[f'Q{i}_Total_Units'])\n",
        "        total_unit_after_gap.append(individual[f'Q{i+1}_Total_Units'])\n",
        "\n",
        "        time_before_gap.append(individual[f'Q{i}_Timestamp'])\n",
        "        time_after_gap.append(individual[f'Q{i+1}_Timestamp'])\n",
        "\n",
        "  # if time[time.index(q1) + 1] != q2:\n",
        "  #   quarter_before_gap.append('Q1')\n",
        "  #   cs_gpa_before_gap.append(individual['Q1_CS_GPA'])\n",
        "  #   cs_gpa_after_gap.append(individual['Q2_CS_GPA'])\n",
        "\n",
        "  #   cs_unit_before_gap.append(individual['Q1_CS_Units'])\n",
        "  #   cs_unit_after_gap.append(individual['Q2_CS_Units'])\n",
        "\n",
        "  # if time[time.index(q2) + 1] != q3:\n",
        "  #   quarter_before_gap.append('Q2')\n",
        "  #   cs_gpa_before_gap.append(individual['Q2_CS_GPA'])\n",
        "  #   cs_gpa_after_gap.append(individual['Q3_CS_GPA'])\n",
        "\n",
        "  #   cs_unit_before_gap.append(individual['Q2_CS_Units'])\n",
        "  #   cs_unit_after_gap.append(individual['Q3_CS_Units'])\n",
        "\n",
        "\n",
        "  # if time[time.index(q3) + 1] != q4:\n",
        "  #   quarter_before_gap.append('Q3')\n",
        "  #   cs_gpa_before_gap.append(individual['Q3_CS_GPA'])\n",
        "  #   cs_gpa_after_gap.append(individual['Q4_CS_GPA'])\n",
        "\n",
        "  #   cs_unit_before_gap.append(individual['Q3_CS_Units'])\n",
        "  #   cs_unit_after_gap.append(individual['Q4_CS_Units'])\n",
        "\n",
        "  # if time[time.index(q4) + 1] != q5:\n",
        "  #   quarter_before_gap.append('Q4')\n",
        "  #   cs_gpa_before_gap.append(individual['Q4_CS_GPA'])\n",
        "  #   cs_gpa_after_gap.append(individual['Q5_CS_GPA'])\n",
        "\n",
        "  #   cs_unit_before_gap.append(individual['Q4_CS_Units'])\n",
        "  #   cs_unit_after_gap.append(individual['Q5_CS_Units'])\n"
      ],
      "metadata": {
        "id": "zAfLibZD32IB"
      },
      "execution_count": 34,
      "outputs": []
    },
    {
      "cell_type": "code",
      "source": [],
      "metadata": {
        "id": "CTAG6bSF4wjV"
      },
      "execution_count": 34,
      "outputs": []
    },
    {
      "cell_type": "code",
      "source": [
        "from collections import Counter\n",
        "cnt = Counter(quarter_before_gap)"
      ],
      "metadata": {
        "id": "8fCJDf7D6WIw"
      },
      "execution_count": 35,
      "outputs": []
    },
    {
      "cell_type": "code",
      "source": [
        "# Data for the bar chart\n",
        "categories = ['Q1', 'Q2', 'Q3', 'Q4']\n",
        "values = [cnt['Q1'], cnt['Q2'], cnt['Q3'], cnt['Q4']]\n",
        "\n",
        "# Plotting the bar chart\n",
        "plt.bar(categories, values, color=['#ff9999', '#66b3ff', '#99ff99', '#ffcc99'])\n",
        "\n",
        "# Adding titles and labels\n",
        "plt.xlabel('Quarter')\n",
        "plt.ylabel('Count')\n",
        "plt.title('Quarter before student took gap')\n",
        "\n",
        "# Display the plot\n",
        "plt.show()"
      ],
      "metadata": {
        "colab": {
          "base_uri": "https://localhost:8080/",
          "height": 472
        },
        "id": "WZfN-iTg6I4A",
        "outputId": "b52e7849-4730-44dc-8461-9e72336a2792"
      },
      "execution_count": 36,
      "outputs": [
        {
          "output_type": "display_data",
          "data": {
            "text/plain": [
              "<Figure size 640x480 with 1 Axes>"
            ],
            "image/png": "[encoded data removed]"
          },
          "metadata": {}
        }
      ]
    },
    {
      "cell_type": "code",
      "source": [
        "sum(cs_gpa_before_gap)/len(cs_gpa_before_gap)"
      ],
      "metadata": {
        "colab": {
          "base_uri": "https://localhost:8080/"
        },
        "id": "5csM__aW-eAN",
        "outputId": "8a6e55fd-79a6-4406-d756-16120d07341e"
      },
      "execution_count": 37,
      "outputs": [
        {
          "output_type": "execute_result",
          "data": {
            "text/plain": [
              "3.074761904761905"
            ]
          },
          "metadata": {},
          "execution_count": 37
        }
      ]
    },
    {
      "cell_type": "code",
      "source": [
        "sum(cs_gpa_after_gap)/len(cs_gpa_after_gap)"
      ],
      "metadata": {
        "colab": {
          "base_uri": "https://localhost:8080/"
        },
        "id": "Z8Qs1ZXQ-jUD",
        "outputId": "410dbc42-273d-442b-8341-7d84c2b9a77e"
      },
      "execution_count": 38,
      "outputs": [
        {
          "output_type": "execute_result",
          "data": {
            "text/plain": [
              "3.021428571428571"
            ]
          },
          "metadata": {},
          "execution_count": 38
        }
      ]
    },
    {
      "cell_type": "code",
      "source": [
        "Q1_index = [i for i in range(len(quarter_before_gap)) if quarter_before_gap[i] =='Q1']\n",
        "Q1_cs_gpa_before_gap = [cs_gpa_before_gap[i] for i in range(len(cs_gpa_before_gap)) if i in Q1_index]\n",
        "Q1_cs_gpa_after_gap = [cs_gpa_after_gap[i] for i in range(len(cs_gpa_after_gap)) if i in Q1_index]\n",
        "\n",
        "ttest_result = ttest_rel(Q1_cs_gpa_before_gap, Q1_cs_gpa_after_gap, alternative='greater')\n",
        "ttest_result"
      ],
      "metadata": {
        "colab": {
          "base_uri": "https://localhost:8080/"
        },
        "id": "SalOxVhMgAwR",
        "outputId": "78b1647d-dfe5-46cb-d5b4-af7e389e54e9"
      },
      "execution_count": 74,
      "outputs": [
        {
          "output_type": "execute_result",
          "data": {
            "text/plain": [
              "TtestResult(statistic=0.42933363843859673, pvalue=0.34832346118567714, df=3)"
            ]
          },
          "metadata": {},
          "execution_count": 74
        }
      ]
    },
    {
      "cell_type": "code",
      "source": [
        "Q2_index = [i for i in range(len(quarter_before_gap)) if quarter_before_gap[i] =='Q2']\n",
        "Q2_cs_gpa_before_gap = [cs_gpa_before_gap[i] for i in range(len(cs_gpa_before_gap)) if i in Q2_index]\n",
        "Q2_cs_gpa_after_gap = [cs_gpa_after_gap[i] for i in range(len(cs_gpa_after_gap)) if i in Q2_index]\n",
        "\n",
        "ttest_result = ttest_rel(Q2_cs_gpa_before_gap, Q2_cs_gpa_after_gap, alternative='greater')\n",
        "ttest_result"
      ],
      "metadata": {
        "colab": {
          "base_uri": "https://localhost:8080/"
        },
        "id": "HCvccSB_gJXz",
        "outputId": "8bf019a3-eb33-4b23-c076-29bd323e9159"
      },
      "execution_count": 75,
      "outputs": [
        {
          "output_type": "execute_result",
          "data": {
            "text/plain": [
              "TtestResult(statistic=1.928571428571427, pvalue=0.15226430798788007, df=1)"
            ]
          },
          "metadata": {},
          "execution_count": 75
        }
      ]
    },
    {
      "cell_type": "code",
      "source": [
        "Q3_index = [i for i in range(len(quarter_before_gap)) if quarter_before_gap[i] =='Q3']\n",
        "quarter_before_gap\n",
        "Q3_index"
      ],
      "metadata": {
        "id": "KCDvKonF_RMF",
        "colab": {
          "base_uri": "https://localhost:8080/"
        },
        "outputId": "3c3ae817-1cab-400b-ecb5-c91381b0966c"
      },
      "execution_count": 54,
      "outputs": [
        {
          "output_type": "execute_result",
          "data": {
            "text/plain": [
              "[0, 1, 7, 8, 10, 11, 15, 19]"
            ]
          },
          "metadata": {},
          "execution_count": 54
        }
      ]
    },
    {
      "cell_type": "code",
      "source": [
        "Q3_cs_gpa_before_gap = [cs_gpa_before_gap[i] for i in range(len(cs_gpa_before_gap)) if i in Q3_index]\n",
        "Q3_cs_gpa_before_gap\n",
        "Q3_cs_gpa_after_gap = [cs_gpa_after_gap[i] for i in range(len(cs_gpa_after_gap)) if i in Q3_index]\n",
        "Q3_cs_gpa_after_gap"
      ],
      "metadata": {
        "colab": {
          "base_uri": "https://localhost:8080/"
        },
        "id": "-_sEm-AjTmfo",
        "outputId": "838e33e3-3a1b-4e8a-9348-643aa08ff881"
      },
      "execution_count": 56,
      "outputs": [
        {
          "output_type": "execute_result",
          "data": {
            "text/plain": [
              "[3.79, 2.49, 2.38, 3.24, 3.26, 2.61, 3.44, 3.29]"
            ]
          },
          "metadata": {},
          "execution_count": 56
        }
      ]
    },
    {
      "cell_type": "code",
      "source": [
        "Q3_cs_gpa_before_gap"
      ],
      "metadata": {
        "colab": {
          "base_uri": "https://localhost:8080/"
        },
        "id": "spqy8PhfUQ7C",
        "outputId": "4dbcb2ec-6679-4bea-8575-52d899bd7b88"
      },
      "execution_count": 58,
      "outputs": [
        {
          "output_type": "execute_result",
          "data": {
            "text/plain": [
              "[2.88, 2.14, 3.13, 2.89, 2.31, 2.84, 4.0, 3.82]"
            ]
          },
          "metadata": {},
          "execution_count": 58
        }
      ]
    },
    {
      "cell_type": "code",
      "source": [
        "from scipy.stats import ttest_rel\n",
        "ttest_result = ttest_rel(Q3_cs_gpa_before_gap, Q3_cs_gpa_after_gap, alternative='greater')\n",
        "ttest_result"
      ],
      "metadata": {
        "colab": {
          "base_uri": "https://localhost:8080/"
        },
        "id": "t0RWuly3T_aJ",
        "outputId": "4d05ad97-d4f7-476c-818b-b96f541351fa"
      },
      "execution_count": 72,
      "outputs": [
        {
          "output_type": "execute_result",
          "data": {
            "text/plain": [
              "TtestResult(statistic=-0.25802802277849934, pvalue=0.598096541393641, df=7)"
            ]
          },
          "metadata": {},
          "execution_count": 72
        }
      ]
    },
    {
      "cell_type": "code",
      "source": [
        "Q4_index = [i for i in range(len(quarter_before_gap)) if quarter_before_gap[i] =='Q4']\n",
        "Q4_cs_gpa_before_gap = [cs_gpa_before_gap[i] for i in range(len(cs_gpa_before_gap)) if i in Q4_index]\n",
        "Q4_cs_gpa_after_gap = [cs_gpa_after_gap[i] for i in range(len(cs_gpa_after_gap)) if i in Q4_index]\n",
        "\n",
        "ttest_result = ttest_rel(Q4_cs_gpa_before_gap, Q4_cs_gpa_after_gap, alternative='greater')\n",
        "ttest_result"
      ],
      "metadata": {
        "colab": {
          "base_uri": "https://localhost:8080/"
        },
        "id": "ssqPk4TyU7u8",
        "outputId": "728ba58b-9ed1-40e5-b938-cf67996bcf0a"
      },
      "execution_count": 73,
      "outputs": [
        {
          "output_type": "execute_result",
          "data": {
            "text/plain": [
              "TtestResult(statistic=0.19317438922678215, pvalue=0.42659782570503213, df=6)"
            ]
          },
          "metadata": {},
          "execution_count": 73
        }
      ]
    },
    {
      "cell_type": "code",
      "source": [
        "Q3_cs_gpa_before_gap"
      ],
      "metadata": {
        "colab": {
          "base_uri": "https://localhost:8080/"
        },
        "id": "7qS1_LQpU70I",
        "outputId": "fd5a512b-6f25-4105-e381-8552e75e882d"
      },
      "execution_count": 78,
      "outputs": [
        {
          "output_type": "execute_result",
          "data": {
            "text/plain": [
              "[2.88, 2.14, 3.13, 2.89, 2.31, 2.84, 4.0, 3.82]"
            ]
          },
          "metadata": {},
          "execution_count": 78
        }
      ]
    },
    {
      "cell_type": "code",
      "source": [
        "Q3_cs_gpa_after_gap"
      ],
      "metadata": {
        "colab": {
          "base_uri": "https://localhost:8080/"
        },
        "id": "VvRdC9SkU73W",
        "outputId": "8933fbc9-b21f-41be-8cf0-3a0cc762966d"
      },
      "execution_count": 79,
      "outputs": [
        {
          "output_type": "execute_result",
          "data": {
            "text/plain": [
              "[3.79, 2.49, 2.38, 3.24, 3.26, 2.61, 3.44, 3.29]"
            ]
          },
          "metadata": {},
          "execution_count": 79
        }
      ]
    },
    {
      "cell_type": "code",
      "source": [
        "len(cs_gpa_after_gap)\n"
      ],
      "metadata": {
        "colab": {
          "base_uri": "https://localhost:8080/"
        },
        "id": "isivYQ9ogyWa",
        "outputId": "4a1997e0-278a-4893-8cc0-1413066b8b2e"
      },
      "execution_count": 100,
      "outputs": [
        {
          "output_type": "execute_result",
          "data": {
            "text/plain": [
              "21"
            ]
          },
          "metadata": {},
          "execution_count": 100
        }
      ]
    },
    {
      "cell_type": "code",
      "source": [
        "\n",
        "\n",
        "# Example data: GPA of students for Q1 and Q2\n",
        "students = [i for i in range(len(cs_gpa_before_gap))]\n",
        "\n",
        "\n",
        "# Define custom colors for each student's bars\n",
        "colors_q1 = ['lightgreen' if cs_gpa_before_gap[i]>cs_gpa_after_gap[i] else 'lightblue' for i in range(len(cs_gpa_before_gap))]  # Custom colors for Q1\n",
        "colors_q2 = ['green' if cs_gpa_before_gap[i]>cs_gpa_after_gap[i] else 'blue' for i in range(len(cs_gpa_before_gap))]\n",
        "\n",
        "# Set the position of the bars on the x-axis\n",
        "x = np.arange(len(students))  # positions for students on x-axis\n",
        "\n",
        "# Define the width of the bars\n",
        "width = 0.35\n",
        "\n",
        "# Create the bar chart\n",
        "fig, ax = plt.subplots()\n",
        "\n",
        "# Plot the bars for each student with custom colors\n",
        "for i in range(len(students)):\n",
        "    ax.bar(x[i] - width/2, cs_gpa_before_gap[i], width, color=colors_q1[i])\n",
        "    ax.bar(x[i] + width/2, cs_gpa_after_gap[i], width, color=colors_q2[i])\n",
        "\n",
        "# Add some text for labels, title, and custom x-axis tick labels\n",
        "ax.set_xlabel('Students')\n",
        "ax.set_ylabel('GPA')\n",
        "ax.set_title('Comparison of GPA for before and after quarter break')\n",
        "ax.set_xticks(x)\n",
        "ax.set_xticklabels(students)\n",
        "\n",
        "# Zoom in on the GPA differences by setting y-axis limits\n",
        "ax.set_ylim(2, 4)  # adjust this range based on your data\n",
        "\n",
        "# Add gridlines for better visibility of differences\n",
        "ax.grid(True, axis='y', linestyle='--', alpha=0.7)\n",
        "\n",
        "# Display the bar chart\n",
        "plt.tight_layout()\n",
        "plt.show()\n"
      ],
      "metadata": {
        "colab": {
          "base_uri": "https://localhost:8080/",
          "height": 487
        },
        "id": "sddDxHKwh8Uy",
        "outputId": "c5d71955-a1e2-4c5e-9bdd-ff677dddad28"
      },
      "execution_count": 101,
      "outputs": [
        {
          "output_type": "display_data",
          "data": {
            "text/plain": [
              "<Figure size 640x480 with 1 Axes>"
            ],
            "image/png": "[encoded data removed]"
          },
          "metadata": {}
        }
      ]
    },
    {
      "cell_type": "code",
      "source": [
        "\n",
        "ttest_result = ttest_rel(cs_gpa_before_gap, cs_gpa_after_gap)\n",
        "ttest_result"
      ],
      "metadata": {
        "colab": {
          "base_uri": "https://localhost:8080/"
        },
        "id": "thAsWuwE9cRv",
        "outputId": "33e5524d-32eb-4041-acdf-75ed4d9f39bd"
      },
      "execution_count": 39,
      "outputs": [
        {
          "output_type": "execute_result",
          "data": {
            "text/plain": [
              "TtestResult(statistic=0.3573894390863121, pvalue=0.7245439079022654, df=20)"
            ]
          },
          "metadata": {},
          "execution_count": 39
        }
      ]
    },
    {
      "cell_type": "markdown",
      "source": [],
      "metadata": {
        "id": "biqMTguN_-H-"
      }
    },
    {
      "cell_type": "code",
      "source": [
        "ttest_result = ttest_rel(cs_unit_before_gap,cs_unit_after_gap)\n",
        "ttest_result"
      ],
      "metadata": {
        "colab": {
          "base_uri": "https://localhost:8080/"
        },
        "id": "eBQtxyJW94Uv",
        "outputId": "314a36d9-0d14-4d6b-daea-91fee96caad1"
      },
      "execution_count": 40,
      "outputs": [
        {
          "output_type": "execute_result",
          "data": {
            "text/plain": [
              "TtestResult(statistic=-0.3313450919975289, pvalue=0.7438305706682455, df=20)"
            ]
          },
          "metadata": {},
          "execution_count": 40
        }
      ]
    },
    {
      "cell_type": "markdown",
      "source": [],
      "metadata": {
        "id": "T4mgZcDOWieU"
      }
    },
    {
      "cell_type": "code",
      "source": [
        "ttest_result = ttest_rel(total_unit_before_gap, total_unit_after_gap)\n",
        "ttest_result"
      ],
      "metadata": {
        "colab": {
          "base_uri": "https://localhost:8080/"
        },
        "id": "HY4TV6Wl-WpD",
        "outputId": "1ac8ebf3-6a21-47a2-ffbb-7041a56cb92d"
      },
      "execution_count": 41,
      "outputs": [
        {
          "output_type": "execute_result",
          "data": {
            "text/plain": [
              "TtestResult(statistic=0.0, pvalue=1.0, df=20)"
            ]
          },
          "metadata": {},
          "execution_count": 41
        }
      ]
    },
    {
      "cell_type": "code",
      "source": [],
      "metadata": {
        "id": "IhVFYRKZU875"
      },
      "execution_count": 41,
      "outputs": []
    },
    {
      "cell_type": "code",
      "source": [],
      "metadata": {
        "id": "VI00DOtyBkIm"
      },
      "execution_count": 41,
      "outputs": []
    },
    {
      "cell_type": "code",
      "source": [],
      "metadata": {
        "id": "DQ4lHwegK9mC"
      },
      "execution_count": 41,
      "outputs": []
    },
    {
      "cell_type": "code",
      "source": [],
      "metadata": {
        "id": "HC9Jyj_eLC6D"
      },
      "execution_count": 41,
      "outputs": []
    },
    {
      "cell_type": "code",
      "source": [
        "cs_gpa_nogap = []\n",
        "cs_gpa_gap = []\n",
        "for target_time, gpa in zip(time_after_gap,cs_gpa_after_gap):\n",
        "  temp = []\n",
        "  for i in range(len(consecutive)):\n",
        "    individual = consecutive.iloc[i]\n",
        "    t1 = individual['Q1_Timestamp']\n",
        "    t2 = individual['Q2_Timestamp']\n",
        "    t3 = individual['Q3_Timestamp']\n",
        "    t4 = individual['Q4_Timestamp']\n",
        "    t5 = individual['Q5_Timestamp']\n",
        "\n",
        "\n",
        "    if t1 == target_time:\n",
        "      temp.append(individual['Q1_CS_GPA'])\n",
        "    if t2 == target_time:\n",
        "      temp.append(individual['Q2_CS_GPA'])\n",
        "    if t3 == target_time:\n",
        "      temp.append(individual['Q3_CS_GPA'])\n",
        "    if t4 == target_time:\n",
        "      temp.append(individual['Q4_CS_GPA'])\n",
        "    if t5 == target_time:\n",
        "      temp.append(individual['Q5_CS_GPA'])\n",
        "\n",
        "  if len(temp) != 0:\n",
        "    cs_gpa_nogap.append(sum(temp)/len(temp))\n",
        "    cs_gpa_gap.append(gpa)"
      ],
      "metadata": {
        "id": "-eMK09tpCGcB"
      },
      "execution_count": 42,
      "outputs": []
    },
    {
      "cell_type": "code",
      "source": [
        "from scipy.stats import ttest_ind\n",
        "\n",
        "ttest_result = ttest_ind(cs_gpa_gap, cs_gpa_nogap, equal_var=False)\n",
        "print(f\"t-statistic={ttest_result.statistic}, p-value={ttest_result.pvalue}\")"
      ],
      "metadata": {
        "colab": {
          "base_uri": "https://localhost:8080/"
        },
        "id": "QtlMiX11JIn_",
        "outputId": "1430b39d-68c6-48c7-8712-414e90f676be"
      },
      "execution_count": 43,
      "outputs": [
        {
          "output_type": "stream",
          "name": "stdout",
          "text": [
            "t-statistic=0.7099050350862794, p-value=0.4862813016203046\n"
          ]
        }
      ]
    },
    {
      "cell_type": "code",
      "source": [],
      "metadata": {
        "id": "CNKBy5FGMcDU"
      },
      "execution_count": 43,
      "outputs": []
    },
    {
      "cell_type": "code",
      "source": [
        "target = records['StudentID'].isin(consecutive['StudentID']).tolist()"
      ],
      "metadata": {
        "id": "aSfkBBmONLl-"
      },
      "execution_count": 44,
      "outputs": []
    },
    {
      "cell_type": "code",
      "source": [
        "target = [int(i) for i in target]"
      ],
      "metadata": {
        "id": "8wgZ2jGhNZZH"
      },
      "execution_count": 45,
      "outputs": []
    },
    {
      "cell_type": "code",
      "source": [],
      "metadata": {
        "id": "wCTj1JJ4N3_0"
      },
      "execution_count": 45,
      "outputs": []
    },
    {
      "cell_type": "code",
      "source": [
        "from sklearn.datasets import load_iris\n",
        "from sklearn.tree import DecisionTreeClassifier\n",
        "from sklearn.model_selection import train_test_split\n",
        "\n",
        "X = records.drop(columns=[\"StudentID\"])\n",
        "y = target\n",
        "\n",
        "\n",
        "# Split the data into training and testing sets\n",
        "X_train, X_test, y_train, y_test = train_test_split(X, y, test_size=0.2, random_state=42)\n",
        "\n",
        "# Create a decision tree classifier\n",
        "clf = DecisionTreeClassifier(random_state=42)\n",
        "\n",
        "# Train the classifier\n",
        "clf.fit(X_train, y_train)\n",
        "\n",
        "# Get feature importances\n",
        "importances = clf.feature_importances_\n",
        "\n",
        "# Create a DataFrame for visualization\n",
        "feature_importance_df = pd.DataFrame({\n",
        "    'Feature': X.columns,\n",
        "    'Importance': importances\n",
        "}).sort_values(by='Importance', ascending=False)\n",
        "\n",
        "# Print feature importance\n",
        "print(feature_importance_df)\n"
      ],
      "metadata": {
        "colab": {
          "base_uri": "https://localhost:8080/"
        },
        "id": "332UmXJoNveD",
        "outputId": "e19faf5f-480f-49a9-8223-25e632157891"
      },
      "execution_count": 46,
      "outputs": [
        {
          "output_type": "stream",
          "name": "stdout",
          "text": [
            "                 Feature  Importance\n",
            "7         Q2_Overall_GPA    0.321864\n",
            "19        Q4_Total_Units    0.188552\n",
            "20          Q5_Timestamp    0.174603\n",
            "11             Q3_CS_GPA    0.129500\n",
            "6              Q2_CS_GPA    0.095694\n",
            "1              Q1_CS_GPA    0.089787\n",
            "23           Q5_CS_Units    0.000000\n",
            "21             Q5_CS_GPA    0.000000\n",
            "22        Q5_Overall_GPA    0.000000\n",
            "0           Q1_Timestamp    0.000000\n",
            "24        Q5_Total_Units    0.000000\n",
            "18           Q4_CS_Units    0.000000\n",
            "26       Avg_Overall_GPA    0.000000\n",
            "27       Weighted_CS_GPA    0.000000\n",
            "28  Weighted_Overall_GPA    0.000000\n",
            "29        Total_CS_Units    0.000000\n",
            "25            Avg_CS_GPA    0.000000\n",
            "15          Q4_Timestamp    0.000000\n",
            "17        Q4_Overall_GPA    0.000000\n",
            "16             Q4_CS_GPA    0.000000\n",
            "14        Q3_Total_Units    0.000000\n",
            "13           Q3_CS_Units    0.000000\n",
            "12        Q3_Overall_GPA    0.000000\n",
            "10          Q3_Timestamp    0.000000\n",
            "9         Q2_Total_Units    0.000000\n",
            "8            Q2_CS_Units    0.000000\n",
            "5           Q2_Timestamp    0.000000\n",
            "4         Q1_Total_Units    0.000000\n",
            "3            Q1_CS_Units    0.000000\n",
            "2         Q1_Overall_GPA    0.000000\n",
            "30   Total_Overall_Units    0.000000\n"
          ]
        }
      ]
    },
    {
      "cell_type": "code",
      "source": [
        "# Visualize feature importance\n",
        "plt.figure(figsize=(10, 6))\n",
        "plt.barh(feature_importance_df['Feature'], feature_importance_df['Importance'], color='skyblue')\n",
        "plt.xlabel('Importance')\n",
        "plt.title('Feature Importance from Decision Tree Classifier')\n",
        "plt.show()"
      ],
      "metadata": {
        "colab": {
          "base_uri": "https://localhost:8080/",
          "height": 503
        },
        "id": "XVTXTLGXPHXN",
        "outputId": "b78b1a08-bb5c-455b-ab9e-a82275e2ed77"
      },
      "execution_count": 47,
      "outputs": [
        {
          "output_type": "display_data",
          "data": {
            "text/plain": [
              "<Figure size 1000x600 with 1 Axes>"
            ],
            "image/png": "[encoded data removed]"
          },
          "metadata": {}
        }
      ]
    },
    {
      "cell_type": "code",
      "source": [
        "ttest_result = ttest_ind(nonconsecutive['Q5_Timestamp'], consecutive['Q5_Timestamp'], equal_var=False)\n",
        "print(f\"t-statistic={ttest_result.statistic}, p-value={ttest_result.pvalue}\")"
      ],
      "metadata": {
        "colab": {
          "base_uri": "https://localhost:8080/"
        },
        "id": "Jtm1ahq4QB5o",
        "outputId": "00cb0cd0-fb5d-485a-aa14-640225bc50de"
      },
      "execution_count": 48,
      "outputs": [
        {
          "output_type": "stream",
          "name": "stdout",
          "text": [
            "t-statistic=1.4115426952218983, p-value=0.1649481516744664\n"
          ]
        }
      ]
    },
    {
      "cell_type": "code",
      "source": [
        "nonconsecutive['Q2_CS_GPA'].mean()"
      ],
      "metadata": {
        "colab": {
          "base_uri": "https://localhost:8080/"
        },
        "id": "L106OwxJQTAp",
        "outputId": "12ed0eb9-7187-4319-98e2-4b392081a9c4"
      },
      "execution_count": 49,
      "outputs": [
        {
          "output_type": "execute_result",
          "data": {
            "text/plain": [
              "2.9499999999999997"
            ]
          },
          "metadata": {},
          "execution_count": 49
        }
      ]
    },
    {
      "cell_type": "code",
      "source": [
        "consecutive['Q2_CS_GPA'].mean()"
      ],
      "metadata": {
        "colab": {
          "base_uri": "https://localhost:8080/"
        },
        "id": "n4sckbMGSat3",
        "outputId": "127a8caf-b4b3-4127-99bb-385d27b5cdd9"
      },
      "execution_count": 50,
      "outputs": [
        {
          "output_type": "execute_result",
          "data": {
            "text/plain": [
              "2.9148275862068966"
            ]
          },
          "metadata": {},
          "execution_count": 50
        }
      ]
    },
    {
      "cell_type": "code",
      "source": [],
      "metadata": {
        "id": "2wuJqmXnUPiS"
      },
      "execution_count": 71,
      "outputs": []
    },
    {
      "cell_type": "markdown",
      "source": [
        "# Note: On Average, student who took gap quarter have higher grades"
      ],
      "metadata": {
        "id": "t3NX6tckUP8J"
      }
    }
  ]
}